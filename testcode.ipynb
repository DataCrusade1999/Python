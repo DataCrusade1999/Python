{
  "nbformat": 4,
  "nbformat_minor": 0,
  "metadata": {
    "colab": {
      "name": "TensorFlow.ipynb",
      "provenance": [],
      "authorship_tag": "ABX9TyPkq5p/5JvBMRSdVLWnt5CI",
      "include_colab_link": true
    },
    "kernelspec": {
      "name": "python3",
      "display_name": "Python 3"
    }
  },
  "cells": [
    {
      "cell_type": "markdown",
      "metadata": {
        "id": "view-in-github",
        "colab_type": "text"
      },
      "source": [
        "<a href=\"https://colab.research.google.com/github/DataCrusade1999/Python/blob/master/testcode.ipynb\" target=\"_parent\"><img src=\"https://colab.research.google.com/assets/colab-badge.svg\" alt=\"Open In Colab\"/></a>"
      ]
    },
    {
      "cell_type": "code",
      "metadata": {
        "id": "Snt8KiHmpuQ5",
        "colab_type": "code",
        "colab": {
          "base_uri": "https://localhost:8080/",
          "height": 50
        },
        "cellView": "code",
        "outputId": "52142325-aefc-4aa1-f0ac-d9c1101f4aa4"
      },
      "source": [
        "\n",
        "def calculator(a,b):\n",
        "  x=input('enter the operation?')\n",
        "  while True:\n",
        "    if x=='+':\n",
        "      print(a+b)\n",
        "      break\n",
        "    elif x=='-':\n",
        "      print(a-b)\n",
        "      break\n",
        "    elif x=='/':\n",
        "      print(a/b)\n",
        "      break\n",
        "    elif x=='*':\n",
        "      print(a*b)\n",
        "      break\n",
        "    else:\n",
        "      print('enter a valid operation')\n",
        "      break\n",
        "calculator(2,4)"
      ],
      "execution_count": 12,
      "outputs": [
        {
          "output_type": "stream",
          "text": [
            "enter the operation?/\n",
            "0.5\n"
          ],
          "name": "stdout"
        }
      ]
    }
  ]
}