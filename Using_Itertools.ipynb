{
  "nbformat": 4,
  "nbformat_minor": 0,
  "metadata": {
    "colab": {
      "name": "Using Itertools.ipynb",
      "provenance": [],
      "authorship_tag": "ABX9TyPosouEtFNese7+W2/pTji0",
      "include_colab_link": true
    },
    "kernelspec": {
      "name": "python3",
      "display_name": "Python 3"
    }
  },
  "cells": [
    {
      "cell_type": "markdown",
      "metadata": {
        "id": "view-in-github",
        "colab_type": "text"
      },
      "source": [
        "<a href=\"https://colab.research.google.com/github/DataCrusade1999/Python/blob/master/Using_Itertools.ipynb\" target=\"_parent\"><img src=\"https://colab.research.google.com/assets/colab-badge.svg\" alt=\"Open In Colab\"/></a>"
      ]
    },
    {
      "cell_type": "code",
      "metadata": {
        "id": "9BXKOLJ2ihql",
        "colab_type": "code",
        "colab": {}
      },
      "source": [
        "from itertools import count"
      ],
      "execution_count": 1,
      "outputs": []
    },
    {
      "cell_type": "code",
      "metadata": {
        "id": "8s53YV6-ir9r",
        "colab_type": "code",
        "colab": {
          "base_uri": "https://localhost:8080/",
          "height": 34
        },
        "outputId": "eb2ff792-6c0e-4ac2-b76b-f5991bea87c4"
      },
      "source": [
        "x = [1, 2, 3, 4, 5, 6, 1]\n",
        "print(x.count(1))"
      ],
      "execution_count": 2,
      "outputs": [
        {
          "output_type": "stream",
          "text": [
            "2\n"
          ],
          "name": "stdout"
        }
      ]
    },
    {
      "cell_type": "code",
      "metadata": {
        "id": "F47-TBIRiyRN",
        "colab_type": "code",
        "colab": {
          "base_uri": "https://localhost:8080/",
          "height": 118
        },
        "outputId": "e7342d89-ccfb-478a-fdc9-22b2f679f280"
      },
      "source": [
        "num = iter([1, 2, 3, 4, 5, 6])\n",
        "print(next(num))\n",
        "print(next(num))\n",
        "print(next(num))\n",
        "print(next(num))\n",
        "print(next(num))\n",
        "print(next(num))"
      ],
      "execution_count": 3,
      "outputs": [
        {
          "output_type": "stream",
          "text": [
            "1\n",
            "2\n",
            "3\n",
            "4\n",
            "5\n",
            "6\n"
          ],
          "name": "stdout"
        }
      ]
    },
    {
      "cell_type": "code",
      "metadata": {
        "id": "NKIrKBjsi_pb",
        "colab_type": "code",
        "colab": {
          "base_uri": "https://localhost:8080/",
          "height": 84
        },
        "outputId": "72c149fc-beab-4d5b-bec1-e67f03dfe434"
      },
      "source": [
        "index = count()\n",
        "print(next(index))\n",
        "print(next(index))\n",
        "print(next(index))\n",
        "print(next(index))"
      ],
      "execution_count": 4,
      "outputs": [
        {
          "output_type": "stream",
          "text": [
            "0\n",
            "1\n",
            "2\n",
            "3\n"
          ],
          "name": "stdout"
        }
      ]
    }
  ]
}