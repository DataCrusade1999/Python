{
  "nbformat": 4,
  "nbformat_minor": 0,
  "metadata": {
    "colab": {
      "name": "Using Itertools.ipynb",
      "provenance": [],
      "authorship_tag": "ABX9TyPwakZ/BdFl923jrqjlMmwQ",
      "include_colab_link": true
    },
    "kernelspec": {
      "name": "python3",
      "display_name": "Python 3"
    }
  },
  "cells": [
    {
      "cell_type": "markdown",
      "metadata": {
        "id": "view-in-github",
        "colab_type": "text"
      },
      "source": [
        "<a href=\"https://colab.research.google.com/github/DataCrusade1999/Python/blob/master/Using_Itertools.ipynb\" target=\"_parent\"><img src=\"https://colab.research.google.com/assets/colab-badge.svg\" alt=\"Open In Colab\"/></a>"
      ]
    },
    {
      "cell_type": "code",
      "metadata": {
        "id": "9BXKOLJ2ihql",
        "colab_type": "code",
        "colab": {}
      },
      "source": [
        "from itertools import count"
      ],
      "execution_count": 5,
      "outputs": []
    },
    {
      "cell_type": "code",
      "metadata": {
        "id": "8s53YV6-ir9r",
        "colab_type": "code",
        "colab": {
          "base_uri": "https://localhost:8080/",
          "height": 34
        },
        "outputId": "69587856-3647-49bb-f061-b3d6b4c6648b"
      },
      "source": [
        "x = [1, 2, 3, 4, 5, 6, 1]\n",
        "print(x.count(1))"
      ],
      "execution_count": 6,
      "outputs": [
        {
          "output_type": "stream",
          "text": [
            "2\n"
          ],
          "name": "stdout"
        }
      ]
    },
    {
      "cell_type": "code",
      "metadata": {
        "id": "F47-TBIRiyRN",
        "colab_type": "code",
        "colab": {
          "base_uri": "https://localhost:8080/",
          "height": 118
        },
        "outputId": "afa1aedb-0aaf-46cd-93d1-c4de41018d9b"
      },
      "source": [
        "num = iter([1, 2, 3, 4, 5, 6])\n",
        "print(next(num))\n",
        "print(next(num))\n",
        "print(next(num))\n",
        "print(next(num))\n",
        "print(next(num))\n",
        "print(next(num))"
      ],
      "execution_count": 7,
      "outputs": [
        {
          "output_type": "stream",
          "text": [
            "1\n",
            "2\n",
            "3\n",
            "4\n",
            "5\n",
            "6\n"
          ],
          "name": "stdout"
        }
      ]
    },
    {
      "cell_type": "code",
      "metadata": {
        "id": "FeLf3KxIkF6b",
        "colab_type": "code",
        "colab": {
          "base_uri": "https://localhost:8080/",
          "height": 101
        },
        "outputId": "9fa3eded-2086-4d75-e92b-dc897941442e"
      },
      "source": [
        "print(next(count()))\n",
        "print(next(count()))\n",
        "print(next(count()))\n",
        "print(next(count()))\n",
        "print(next(count()))"
      ],
      "execution_count": 8,
      "outputs": [
        {
          "output_type": "stream",
          "text": [
            "0\n",
            "0\n",
            "0\n",
            "0\n",
            "0\n"
          ],
          "name": "stdout"
        }
      ]
    },
    {
      "cell_type": "code",
      "metadata": {
        "id": "NKIrKBjsi_pb",
        "colab_type": "code",
        "colab": {
          "base_uri": "https://localhost:8080/",
          "height": 84
        },
        "outputId": "01deda04-abe0-4f3b-8f5e-69ed4a588964"
      },
      "source": [
        "index = count()\n",
        "print(next(index))\n",
        "print(next(index))\n",
        "print(next(index))\n",
        "print(next(index))"
      ],
      "execution_count": 9,
      "outputs": [
        {
          "output_type": "stream",
          "text": [
            "0\n",
            "1\n",
            "2\n",
            "3\n"
          ],
          "name": "stdout"
        }
      ]
    }
  ]
}