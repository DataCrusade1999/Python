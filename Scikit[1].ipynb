{
  "nbformat": 4,
  "nbformat_minor": 0,
  "metadata": {
    "colab": {
      "name": "Scikit[1].ipynb",
      "provenance": [],
      "collapsed_sections": [],
      "authorship_tag": "ABX9TyOsgvkPFv7gZGqj/FKT1MS2",
      "include_colab_link": true
    },
    "kernelspec": {
      "name": "python3",
      "display_name": "Python 3"
    }
  },
  "cells": [
    {
      "cell_type": "markdown",
      "metadata": {
        "id": "view-in-github",
        "colab_type": "text"
      },
      "source": [
        "<a href=\"https://colab.research.google.com/github/DataCrusade1999/Python/blob/master/Scikit%5B1%5D.ipynb\" target=\"_parent\"><img src=\"https://colab.research.google.com/assets/colab-badge.svg\" alt=\"Open In Colab\"/></a>"
      ]
    },
    {
      "cell_type": "code",
      "metadata": {
        "id": "nyhesJDs9-3Z",
        "colab_type": "code",
        "colab": {}
      },
      "source": [
        "import io\n",
        "import numpy as np\n",
        "import pandas as pd\n",
        "import datetime\n",
        "from google.colab import files"
      ],
      "execution_count": 157,
      "outputs": []
    },
    {
      "cell_type": "markdown",
      "metadata": {
        "id": "Ht0mR3efLu1R",
        "colab_type": "text"
      },
      "source": [
        "**LOADING DATA**"
      ]
    },
    {
      "cell_type": "code",
      "metadata": {
        "id": "XjVKp72oHXi8",
        "colab_type": "code",
        "colab": {}
      },
      "source": [
        "url='https://raw.githubusercontent.com/DataCrusade1999/Python/master/Data/Books_small.csv'"
      ],
      "execution_count": 158,
      "outputs": []
    },
    {
      "cell_type": "code",
      "metadata": {
        "id": "UXrP4kMmIFJV",
        "colab_type": "code",
        "colab": {
          "base_uri": "https://localhost:8080/",
          "height": 246
        },
        "outputId": "ae237f93-121c-4cc4-8d89-753eab9955b1"
      },
      "source": [
        "Books_small=pd.read_csv(url)\n",
        "Books_small.head()"
      ],
      "execution_count": 159,
      "outputs": [
        {
          "output_type": "execute_result",
          "data": {
            "text/html": [
              "<div>\n",
              "<style scoped>\n",
              "    .dataframe tbody tr th:only-of-type {\n",
              "        vertical-align: middle;\n",
              "    }\n",
              "\n",
              "    .dataframe tbody tr th {\n",
              "        vertical-align: top;\n",
              "    }\n",
              "\n",
              "    .dataframe thead th {\n",
              "        text-align: right;\n",
              "    }\n",
              "</style>\n",
              "<table border=\"1\" class=\"dataframe\">\n",
              "  <thead>\n",
              "    <tr style=\"text-align: right;\">\n",
              "      <th></th>\n",
              "      <th>reviewerID</th>\n",
              "      <th>asin</th>\n",
              "      <th>reviewerName</th>\n",
              "      <th>helpful__001</th>\n",
              "      <th>helpful__002</th>\n",
              "      <th>reviewText</th>\n",
              "      <th>overall</th>\n",
              "      <th>summary</th>\n",
              "      <th>unixReviewTime</th>\n",
              "      <th>reviewTime</th>\n",
              "    </tr>\n",
              "  </thead>\n",
              "  <tbody>\n",
              "    <tr>\n",
              "      <th>0</th>\n",
              "      <td>A1E5ZR1Z4OQJG</td>\n",
              "      <td>1495329321</td>\n",
              "      <td>Pure Jonel \"Pure Jonel\"</td>\n",
              "      <td>0</td>\n",
              "      <td>0</td>\n",
              "      <td>Da Silva takes the divine by storm with this u...</td>\n",
              "      <td>4.0</td>\n",
              "      <td>An amazing first novel</td>\n",
              "      <td>1396137600</td>\n",
              "      <td>03 30, 2014</td>\n",
              "    </tr>\n",
              "    <tr>\n",
              "      <th>1</th>\n",
              "      <td>A30PZPI6FPH0A7</td>\n",
              "      <td>0399157565</td>\n",
              "      <td>Jackmollie</td>\n",
              "      <td>0</td>\n",
              "      <td>0</td>\n",
              "      <td>For me personally it's the most disappointing ...</td>\n",
              "      <td>2.0</td>\n",
              "      <td>disappointed</td>\n",
              "      <td>1400112000</td>\n",
              "      <td>05 15, 2014</td>\n",
              "    </tr>\n",
              "    <tr>\n",
              "      <th>2</th>\n",
              "      <td>A1GQ2UI5BKCCRD</td>\n",
              "      <td>0984528105</td>\n",
              "      <td>Gail Hodges</td>\n",
              "      <td>0</td>\n",
              "      <td>0</td>\n",
              "      <td>Very simple book, but leaves you feeling good....</td>\n",
              "      <td>4.0</td>\n",
              "      <td>Good book</td>\n",
              "      <td>1401235200</td>\n",
              "      <td>05 28, 2014</td>\n",
              "    </tr>\n",
              "    <tr>\n",
              "      <th>3</th>\n",
              "      <td>A2DF4LQQI6KSQ2</td>\n",
              "      <td>0804139024</td>\n",
              "      <td>Olga</td>\n",
              "      <td>0</td>\n",
              "      <td>0</td>\n",
              "      <td>I read a library copy of this exceptionally we...</td>\n",
              "      <td>5.0</td>\n",
              "      <td>Science Fiction at its best!</td>\n",
              "      <td>1396483200</td>\n",
              "      <td>04 3, 2014</td>\n",
              "    </tr>\n",
              "    <tr>\n",
              "      <th>4</th>\n",
              "      <td>A1UAMAWY966P2</td>\n",
              "      <td>0765317583</td>\n",
              "      <td>Nadyne M Ichimura</td>\n",
              "      <td>0</td>\n",
              "      <td>0</td>\n",
              "      <td>With the government knowing this could happen ...</td>\n",
              "      <td>5.0</td>\n",
              "      <td>Excellent story</td>\n",
              "      <td>1397001600</td>\n",
              "      <td>04 9, 2014</td>\n",
              "    </tr>\n",
              "  </tbody>\n",
              "</table>\n",
              "</div>"
            ],
            "text/plain": [
              "       reviewerID        asin  ... unixReviewTime   reviewTime\n",
              "0   A1E5ZR1Z4OQJG  1495329321  ...     1396137600  03 30, 2014\n",
              "1  A30PZPI6FPH0A7  0399157565  ...     1400112000  05 15, 2014\n",
              "2  A1GQ2UI5BKCCRD  0984528105  ...     1401235200  05 28, 2014\n",
              "3  A2DF4LQQI6KSQ2  0804139024  ...     1396483200   04 3, 2014\n",
              "4   A1UAMAWY966P2  0765317583  ...     1397001600   04 9, 2014\n",
              "\n",
              "[5 rows x 10 columns]"
            ]
          },
          "metadata": {
            "tags": []
          },
          "execution_count": 159
        }
      ]
    },
    {
      "cell_type": "markdown",
      "metadata": {
        "id": "_11GnmwYLzT-",
        "colab_type": "text"
      },
      "source": [
        "**PERFORMING EDA**"
      ]
    },
    {
      "cell_type": "markdown",
      "metadata": {
        "id": "xzQQM_uiXP7R",
        "colab_type": "text"
      },
      "source": [
        "**In the first case below, we say \"give us the values of the rows with index from 0 to 999 (inclusive) and columns labeled from \"reviewText\" to \"overall\" (inclusive)\". In the second case, we say \"give us the values of all the rows in the columns 5 to 7\" (as in a typical Python slice: the maximal value is not included).**"
      ]
    },
    {
      "cell_type": "code",
      "metadata": {
        "id": "4eNWEvMfTuGQ",
        "colab_type": "code",
        "colab": {
          "base_uri": "https://localhost:8080/",
          "height": 402
        },
        "outputId": "93904359-5f95-47bd-cb04-f715ff167f29"
      },
      "source": [
        "Books_small.loc[0:,'reviewText':'overall']"
      ],
      "execution_count": 160,
      "outputs": [
        {
          "output_type": "execute_result",
          "data": {
            "text/html": [
              "<div>\n",
              "<style scoped>\n",
              "    .dataframe tbody tr th:only-of-type {\n",
              "        vertical-align: middle;\n",
              "    }\n",
              "\n",
              "    .dataframe tbody tr th {\n",
              "        vertical-align: top;\n",
              "    }\n",
              "\n",
              "    .dataframe thead th {\n",
              "        text-align: right;\n",
              "    }\n",
              "</style>\n",
              "<table border=\"1\" class=\"dataframe\">\n",
              "  <thead>\n",
              "    <tr style=\"text-align: right;\">\n",
              "      <th></th>\n",
              "      <th>reviewText</th>\n",
              "      <th>overall</th>\n",
              "    </tr>\n",
              "  </thead>\n",
              "  <tbody>\n",
              "    <tr>\n",
              "      <th>0</th>\n",
              "      <td>Da Silva takes the divine by storm with this u...</td>\n",
              "      <td>4.0</td>\n",
              "    </tr>\n",
              "    <tr>\n",
              "      <th>1</th>\n",
              "      <td>For me personally it's the most disappointing ...</td>\n",
              "      <td>2.0</td>\n",
              "    </tr>\n",
              "    <tr>\n",
              "      <th>2</th>\n",
              "      <td>Very simple book, but leaves you feeling good....</td>\n",
              "      <td>4.0</td>\n",
              "    </tr>\n",
              "    <tr>\n",
              "      <th>3</th>\n",
              "      <td>I read a library copy of this exceptionally we...</td>\n",
              "      <td>5.0</td>\n",
              "    </tr>\n",
              "    <tr>\n",
              "      <th>4</th>\n",
              "      <td>With the government knowing this could happen ...</td>\n",
              "      <td>5.0</td>\n",
              "    </tr>\n",
              "    <tr>\n",
              "      <th>...</th>\n",
              "      <td>...</td>\n",
              "      <td>...</td>\n",
              "    </tr>\n",
              "    <tr>\n",
              "      <th>995</th>\n",
              "      <td>I thoroughly enjoyed this book. I've read the ...</td>\n",
              "      <td>5.0</td>\n",
              "    </tr>\n",
              "    <tr>\n",
              "      <th>996</th>\n",
              "      <td>I was impressed with not only the characters o...</td>\n",
              "      <td>5.0</td>\n",
              "    </tr>\n",
              "    <tr>\n",
              "      <th>997</th>\n",
              "      <td>I like the characters.  I had read the short s...</td>\n",
              "      <td>5.0</td>\n",
              "    </tr>\n",
              "    <tr>\n",
              "      <th>998</th>\n",
              "      <td>She got way she wanted,but can she pick the ri...</td>\n",
              "      <td>5.0</td>\n",
              "    </tr>\n",
              "    <tr>\n",
              "      <th>999</th>\n",
              "      <td>All these twists, turns and discoveries. There...</td>\n",
              "      <td>5.0</td>\n",
              "    </tr>\n",
              "  </tbody>\n",
              "</table>\n",
              "<p>1000 rows × 2 columns</p>\n",
              "</div>"
            ],
            "text/plain": [
              "                                            reviewText  overall\n",
              "0    Da Silva takes the divine by storm with this u...      4.0\n",
              "1    For me personally it's the most disappointing ...      2.0\n",
              "2    Very simple book, but leaves you feeling good....      4.0\n",
              "3    I read a library copy of this exceptionally we...      5.0\n",
              "4    With the government knowing this could happen ...      5.0\n",
              "..                                                 ...      ...\n",
              "995  I thoroughly enjoyed this book. I've read the ...      5.0\n",
              "996  I was impressed with not only the characters o...      5.0\n",
              "997  I like the characters.  I had read the short s...      5.0\n",
              "998  She got way she wanted,but can she pick the ri...      5.0\n",
              "999  All these twists, turns and discoveries. There...      5.0\n",
              "\n",
              "[1000 rows x 2 columns]"
            ]
          },
          "metadata": {
            "tags": []
          },
          "execution_count": 160
        }
      ]
    },
    {
      "cell_type": "code",
      "metadata": {
        "id": "MbOgkmgjSnfv",
        "colab_type": "code",
        "colab": {
          "base_uri": "https://localhost:8080/",
          "height": 402
        },
        "outputId": "f16dc6ec-3da7-4719-f6eb-d998116c47b7"
      },
      "source": [
        "Books_small.iloc[0:,5:7]"
      ],
      "execution_count": 161,
      "outputs": [
        {
          "output_type": "execute_result",
          "data": {
            "text/html": [
              "<div>\n",
              "<style scoped>\n",
              "    .dataframe tbody tr th:only-of-type {\n",
              "        vertical-align: middle;\n",
              "    }\n",
              "\n",
              "    .dataframe tbody tr th {\n",
              "        vertical-align: top;\n",
              "    }\n",
              "\n",
              "    .dataframe thead th {\n",
              "        text-align: right;\n",
              "    }\n",
              "</style>\n",
              "<table border=\"1\" class=\"dataframe\">\n",
              "  <thead>\n",
              "    <tr style=\"text-align: right;\">\n",
              "      <th></th>\n",
              "      <th>reviewText</th>\n",
              "      <th>overall</th>\n",
              "    </tr>\n",
              "  </thead>\n",
              "  <tbody>\n",
              "    <tr>\n",
              "      <th>0</th>\n",
              "      <td>Da Silva takes the divine by storm with this u...</td>\n",
              "      <td>4.0</td>\n",
              "    </tr>\n",
              "    <tr>\n",
              "      <th>1</th>\n",
              "      <td>For me personally it's the most disappointing ...</td>\n",
              "      <td>2.0</td>\n",
              "    </tr>\n",
              "    <tr>\n",
              "      <th>2</th>\n",
              "      <td>Very simple book, but leaves you feeling good....</td>\n",
              "      <td>4.0</td>\n",
              "    </tr>\n",
              "    <tr>\n",
              "      <th>3</th>\n",
              "      <td>I read a library copy of this exceptionally we...</td>\n",
              "      <td>5.0</td>\n",
              "    </tr>\n",
              "    <tr>\n",
              "      <th>4</th>\n",
              "      <td>With the government knowing this could happen ...</td>\n",
              "      <td>5.0</td>\n",
              "    </tr>\n",
              "    <tr>\n",
              "      <th>...</th>\n",
              "      <td>...</td>\n",
              "      <td>...</td>\n",
              "    </tr>\n",
              "    <tr>\n",
              "      <th>995</th>\n",
              "      <td>I thoroughly enjoyed this book. I've read the ...</td>\n",
              "      <td>5.0</td>\n",
              "    </tr>\n",
              "    <tr>\n",
              "      <th>996</th>\n",
              "      <td>I was impressed with not only the characters o...</td>\n",
              "      <td>5.0</td>\n",
              "    </tr>\n",
              "    <tr>\n",
              "      <th>997</th>\n",
              "      <td>I like the characters.  I had read the short s...</td>\n",
              "      <td>5.0</td>\n",
              "    </tr>\n",
              "    <tr>\n",
              "      <th>998</th>\n",
              "      <td>She got way she wanted,but can she pick the ri...</td>\n",
              "      <td>5.0</td>\n",
              "    </tr>\n",
              "    <tr>\n",
              "      <th>999</th>\n",
              "      <td>All these twists, turns and discoveries. There...</td>\n",
              "      <td>5.0</td>\n",
              "    </tr>\n",
              "  </tbody>\n",
              "</table>\n",
              "<p>1000 rows × 2 columns</p>\n",
              "</div>"
            ],
            "text/plain": [
              "                                            reviewText  overall\n",
              "0    Da Silva takes the divine by storm with this u...      4.0\n",
              "1    For me personally it's the most disappointing ...      2.0\n",
              "2    Very simple book, but leaves you feeling good....      4.0\n",
              "3    I read a library copy of this exceptionally we...      5.0\n",
              "4    With the government knowing this could happen ...      5.0\n",
              "..                                                 ...      ...\n",
              "995  I thoroughly enjoyed this book. I've read the ...      5.0\n",
              "996  I was impressed with not only the characters o...      5.0\n",
              "997  I like the characters.  I had read the short s...      5.0\n",
              "998  She got way she wanted,but can she pick the ri...      5.0\n",
              "999  All these twists, turns and discoveries. There...      5.0\n",
              "\n",
              "[1000 rows x 2 columns]"
            ]
          },
          "metadata": {
            "tags": []
          },
          "execution_count": 161
        }
      ]
    },
    {
      "cell_type": "code",
      "metadata": {
        "id": "XRoVuIVuK_-e",
        "colab_type": "code",
        "colab": {
          "base_uri": "https://localhost:8080/",
          "height": 34
        },
        "outputId": "d3a3be0d-957f-4cef-ada7-62e1fa654460"
      },
      "source": [
        "Books_small.shape"
      ],
      "execution_count": 162,
      "outputs": [
        {
          "output_type": "execute_result",
          "data": {
            "text/plain": [
              "(1000, 10)"
            ]
          },
          "metadata": {
            "tags": []
          },
          "execution_count": 162
        }
      ]
    },
    {
      "cell_type": "code",
      "metadata": {
        "id": "-6YwDf4bPlIO",
        "colab_type": "code",
        "colab": {
          "base_uri": "https://localhost:8080/",
          "height": 118
        },
        "outputId": "d1a19c4c-4e20-4f12-88b4-72e788e70402"
      },
      "source": [
        "Books_small['overall'].value_counts() #<---Gives Us Number Of Occurences Of A Particular Value in Digits"
      ],
      "execution_count": 163,
      "outputs": [
        {
          "output_type": "execute_result",
          "data": {
            "text/plain": [
              "5.0    609\n",
              "4.0    226\n",
              "3.0    103\n",
              "2.0     41\n",
              "1.0     21\n",
              "Name: overall, dtype: int64"
            ]
          },
          "metadata": {
            "tags": []
          },
          "execution_count": 163
        }
      ]
    },
    {
      "cell_type": "code",
      "metadata": {
        "id": "C_BBsKPPQz9p",
        "colab_type": "code",
        "colab": {
          "base_uri": "https://localhost:8080/",
          "height": 118
        },
        "outputId": "9b8caee3-e536-4f06-e4b1-bd28adcfbb20"
      },
      "source": [
        "Books_small['overall'].value_counts(normalize=True)  #<---Gives Us Number Of Occurences Of A Particular Value in Fractions"
      ],
      "execution_count": 164,
      "outputs": [
        {
          "output_type": "execute_result",
          "data": {
            "text/plain": [
              "5.0    0.609\n",
              "4.0    0.226\n",
              "3.0    0.103\n",
              "2.0    0.041\n",
              "1.0    0.021\n",
              "Name: overall, dtype: float64"
            ]
          },
          "metadata": {
            "tags": []
          },
          "execution_count": 164
        }
      ]
    },
    {
      "cell_type": "code",
      "metadata": {
        "id": "gQafMBEJRR23",
        "colab_type": "code",
        "colab": {
          "base_uri": "https://localhost:8080/",
          "height": 279
        },
        "outputId": "6a2af7b6-a4aa-4cb4-aed5-3575cc4f90a6"
      },
      "source": [
        "Books_small.sort_values(by='overall', ascending=False).head() #<--Starts From Big And Goes Down"
      ],
      "execution_count": 165,
      "outputs": [
        {
          "output_type": "execute_result",
          "data": {
            "text/html": [
              "<div>\n",
              "<style scoped>\n",
              "    .dataframe tbody tr th:only-of-type {\n",
              "        vertical-align: middle;\n",
              "    }\n",
              "\n",
              "    .dataframe tbody tr th {\n",
              "        vertical-align: top;\n",
              "    }\n",
              "\n",
              "    .dataframe thead th {\n",
              "        text-align: right;\n",
              "    }\n",
              "</style>\n",
              "<table border=\"1\" class=\"dataframe\">\n",
              "  <thead>\n",
              "    <tr style=\"text-align: right;\">\n",
              "      <th></th>\n",
              "      <th>reviewerID</th>\n",
              "      <th>asin</th>\n",
              "      <th>reviewerName</th>\n",
              "      <th>helpful__001</th>\n",
              "      <th>helpful__002</th>\n",
              "      <th>reviewText</th>\n",
              "      <th>overall</th>\n",
              "      <th>summary</th>\n",
              "      <th>unixReviewTime</th>\n",
              "      <th>reviewTime</th>\n",
              "    </tr>\n",
              "  </thead>\n",
              "  <tbody>\n",
              "    <tr>\n",
              "      <th>500</th>\n",
              "      <td>A11ESW62XMUL6H</td>\n",
              "      <td>B0043GX2FW</td>\n",
              "      <td>Helen Michael</td>\n",
              "      <td>0</td>\n",
              "      <td>0</td>\n",
              "      <td>I would recommend this book to my best friends...</td>\n",
              "      <td>5.0</td>\n",
              "      <td>Wild Irish Ride:  A Southern Steamy story</td>\n",
              "      <td>1397088000</td>\n",
              "      <td>04 10, 2014</td>\n",
              "    </tr>\n",
              "    <tr>\n",
              "      <th>584</th>\n",
              "      <td>A2WXVAY473ST5N</td>\n",
              "      <td>1476726507</td>\n",
              "      <td>Linda Burton \"Gabbie\"</td>\n",
              "      <td>0</td>\n",
              "      <td>0</td>\n",
              "      <td>This is a great read.  Both my husband and I l...</td>\n",
              "      <td>5.0</td>\n",
              "      <td>Tim</td>\n",
              "      <td>1389916800</td>\n",
              "      <td>01 17, 2014</td>\n",
              "    </tr>\n",
              "    <tr>\n",
              "      <th>569</th>\n",
              "      <td>A32VCGCYYRP8M4</td>\n",
              "      <td>1475051417</td>\n",
              "      <td>P. Skinner \"Patchance\"</td>\n",
              "      <td>1</td>\n",
              "      <td>1</td>\n",
              "      <td>You will never be sorry you picked this book.....</td>\n",
              "      <td>5.0</td>\n",
              "      <td>Great Reading</td>\n",
              "      <td>1397779200</td>\n",
              "      <td>04 18, 2014</td>\n",
              "    </tr>\n",
              "    <tr>\n",
              "      <th>570</th>\n",
              "      <td>A18NZFQ268AW0Z</td>\n",
              "      <td>B00JAOKSBI</td>\n",
              "      <td>Heather Cav</td>\n",
              "      <td>1</td>\n",
              "      <td>1</td>\n",
              "      <td>Loved loved loved this book.  Can not wait til...</td>\n",
              "      <td>5.0</td>\n",
              "      <td>loved this book</td>\n",
              "      <td>1397692800</td>\n",
              "      <td>04 17, 2014</td>\n",
              "    </tr>\n",
              "    <tr>\n",
              "      <th>571</th>\n",
              "      <td>A1UKSR0NE9B0KX</td>\n",
              "      <td>0983706352</td>\n",
              "      <td>Reiki Wonders</td>\n",
              "      <td>0</td>\n",
              "      <td>0</td>\n",
              "      <td>I'm pretty new to erotica usually favoring par...</td>\n",
              "      <td>5.0</td>\n",
              "      <td>New to Erotica, Smokin' Hot!</td>\n",
              "      <td>1404864000</td>\n",
              "      <td>07 9, 2014</td>\n",
              "    </tr>\n",
              "  </tbody>\n",
              "</table>\n",
              "</div>"
            ],
            "text/plain": [
              "         reviewerID        asin  ... unixReviewTime   reviewTime\n",
              "500  A11ESW62XMUL6H  B0043GX2FW  ...     1397088000  04 10, 2014\n",
              "584  A2WXVAY473ST5N  1476726507  ...     1389916800  01 17, 2014\n",
              "569  A32VCGCYYRP8M4  1475051417  ...     1397779200  04 18, 2014\n",
              "570  A18NZFQ268AW0Z  B00JAOKSBI  ...     1397692800  04 17, 2014\n",
              "571  A1UKSR0NE9B0KX  0983706352  ...     1404864000   07 9, 2014\n",
              "\n",
              "[5 rows x 10 columns]"
            ]
          },
          "metadata": {
            "tags": []
          },
          "execution_count": 165
        }
      ]
    },
    {
      "cell_type": "code",
      "metadata": {
        "id": "zww7iquURslI",
        "colab_type": "code",
        "colab": {
          "base_uri": "https://localhost:8080/",
          "height": 279
        },
        "outputId": "7271b1de-89c6-4df9-9cc9-014a57b18bd7"
      },
      "source": [
        "Books_small.sort_values(by='overall', ascending=True).head() #<--Starts From Low And Goes Up"
      ],
      "execution_count": 166,
      "outputs": [
        {
          "output_type": "execute_result",
          "data": {
            "text/html": [
              "<div>\n",
              "<style scoped>\n",
              "    .dataframe tbody tr th:only-of-type {\n",
              "        vertical-align: middle;\n",
              "    }\n",
              "\n",
              "    .dataframe tbody tr th {\n",
              "        vertical-align: top;\n",
              "    }\n",
              "\n",
              "    .dataframe thead th {\n",
              "        text-align: right;\n",
              "    }\n",
              "</style>\n",
              "<table border=\"1\" class=\"dataframe\">\n",
              "  <thead>\n",
              "    <tr style=\"text-align: right;\">\n",
              "      <th></th>\n",
              "      <th>reviewerID</th>\n",
              "      <th>asin</th>\n",
              "      <th>reviewerName</th>\n",
              "      <th>helpful__001</th>\n",
              "      <th>helpful__002</th>\n",
              "      <th>reviewText</th>\n",
              "      <th>overall</th>\n",
              "      <th>summary</th>\n",
              "      <th>unixReviewTime</th>\n",
              "      <th>reviewTime</th>\n",
              "    </tr>\n",
              "  </thead>\n",
              "  <tbody>\n",
              "    <tr>\n",
              "      <th>30</th>\n",
              "      <td>A2PNJCX5LJOUKG</td>\n",
              "      <td>B00BF3EILI</td>\n",
              "      <td>Lisa/Sonya</td>\n",
              "      <td>0</td>\n",
              "      <td>2</td>\n",
              "      <td>I read a sample and it seemed ok.  The price w...</td>\n",
              "      <td>1.0</td>\n",
              "      <td>Don't waste your time or money.</td>\n",
              "      <td>1400284800</td>\n",
              "      <td>05 17, 2014</td>\n",
              "    </tr>\n",
              "    <tr>\n",
              "      <th>731</th>\n",
              "      <td>ASW9NL0GHXFWW</td>\n",
              "      <td>0615579930</td>\n",
              "      <td>Kasey Sterling</td>\n",
              "      <td>0</td>\n",
              "      <td>0</td>\n",
              "      <td>Repetitive. The entire 2nd book is basically t...</td>\n",
              "      <td>1.0</td>\n",
              "      <td>AGAIN AND AGAIN AND AGAIN AND AGAIN...</td>\n",
              "      <td>1404604800</td>\n",
              "      <td>07 6, 2014</td>\n",
              "    </tr>\n",
              "    <tr>\n",
              "      <th>834</th>\n",
              "      <td>ARBELHYW35HQI</td>\n",
              "      <td>B00FIUHQP4</td>\n",
              "      <td>JJ Zonvil</td>\n",
              "      <td>1</td>\n",
              "      <td>1</td>\n",
              "      <td>If you're expecting John Rain, read something ...</td>\n",
              "      <td>1.0</td>\n",
              "      <td>poor attempt at taking over the Rain character</td>\n",
              "      <td>1388707200</td>\n",
              "      <td>01 3, 2014</td>\n",
              "    </tr>\n",
              "    <tr>\n",
              "      <th>190</th>\n",
              "      <td>A2HVU3WFPAPT0X</td>\n",
              "      <td>B00I1P2QPI</td>\n",
              "      <td>ArthurW</td>\n",
              "      <td>5</td>\n",
              "      <td>5</td>\n",
              "      <td>This book has a few, general ideas on how to m...</td>\n",
              "      <td>1.0</td>\n",
              "      <td>A Sales Pitch, Not a Book</td>\n",
              "      <td>1391385600</td>\n",
              "      <td>02 3, 2014</td>\n",
              "    </tr>\n",
              "    <tr>\n",
              "      <th>966</th>\n",
              "      <td>A2MW2B7DMR057R</td>\n",
              "      <td>0938045040</td>\n",
              "      <td>Caleb D. Moyer</td>\n",
              "      <td>1</td>\n",
              "      <td>3</td>\n",
              "      <td>You're up shit creek, in a turd canoe, with a ...</td>\n",
              "      <td>1.0</td>\n",
              "      <td>Let me explain...</td>\n",
              "      <td>1391644800</td>\n",
              "      <td>02 6, 2014</td>\n",
              "    </tr>\n",
              "  </tbody>\n",
              "</table>\n",
              "</div>"
            ],
            "text/plain": [
              "         reviewerID        asin  ... unixReviewTime   reviewTime\n",
              "30   A2PNJCX5LJOUKG  B00BF3EILI  ...     1400284800  05 17, 2014\n",
              "731   ASW9NL0GHXFWW  0615579930  ...     1404604800   07 6, 2014\n",
              "834   ARBELHYW35HQI  B00FIUHQP4  ...     1388707200   01 3, 2014\n",
              "190  A2HVU3WFPAPT0X  B00I1P2QPI  ...     1391385600   02 3, 2014\n",
              "966  A2MW2B7DMR057R  0938045040  ...     1391644800   02 6, 2014\n",
              "\n",
              "[5 rows x 10 columns]"
            ]
          },
          "metadata": {
            "tags": []
          },
          "execution_count": 166
        }
      ]
    },
    {
      "cell_type": "code",
      "metadata": {
        "id": "5x_Ulh3AML6S",
        "colab_type": "code",
        "colab": {
          "base_uri": "https://localhost:8080/",
          "height": 284
        },
        "outputId": "e9fd8efe-5ed4-4310-df6a-d82133aceaf2"
      },
      "source": [
        "Books_small.describe()"
      ],
      "execution_count": 167,
      "outputs": [
        {
          "output_type": "execute_result",
          "data": {
            "text/html": [
              "<div>\n",
              "<style scoped>\n",
              "    .dataframe tbody tr th:only-of-type {\n",
              "        vertical-align: middle;\n",
              "    }\n",
              "\n",
              "    .dataframe tbody tr th {\n",
              "        vertical-align: top;\n",
              "    }\n",
              "\n",
              "    .dataframe thead th {\n",
              "        text-align: right;\n",
              "    }\n",
              "</style>\n",
              "<table border=\"1\" class=\"dataframe\">\n",
              "  <thead>\n",
              "    <tr style=\"text-align: right;\">\n",
              "      <th></th>\n",
              "      <th>helpful__001</th>\n",
              "      <th>helpful__002</th>\n",
              "      <th>overall</th>\n",
              "      <th>unixReviewTime</th>\n",
              "    </tr>\n",
              "  </thead>\n",
              "  <tbody>\n",
              "    <tr>\n",
              "      <th>count</th>\n",
              "      <td>1000.000000</td>\n",
              "      <td>1000.000000</td>\n",
              "      <td>1000.000000</td>\n",
              "      <td>1.000000e+03</td>\n",
              "    </tr>\n",
              "    <tr>\n",
              "      <th>mean</th>\n",
              "      <td>0.595000</td>\n",
              "      <td>0.819000</td>\n",
              "      <td>4.361000</td>\n",
              "      <td>1.396805e+09</td>\n",
              "    </tr>\n",
              "    <tr>\n",
              "      <th>std</th>\n",
              "      <td>2.624092</td>\n",
              "      <td>3.589028</td>\n",
              "      <td>0.967272</td>\n",
              "      <td>5.078227e+06</td>\n",
              "    </tr>\n",
              "    <tr>\n",
              "      <th>min</th>\n",
              "      <td>0.000000</td>\n",
              "      <td>0.000000</td>\n",
              "      <td>1.000000</td>\n",
              "      <td>1.388534e+09</td>\n",
              "    </tr>\n",
              "    <tr>\n",
              "      <th>25%</th>\n",
              "      <td>0.000000</td>\n",
              "      <td>0.000000</td>\n",
              "      <td>4.000000</td>\n",
              "      <td>1.392422e+09</td>\n",
              "    </tr>\n",
              "    <tr>\n",
              "      <th>50%</th>\n",
              "      <td>0.000000</td>\n",
              "      <td>0.000000</td>\n",
              "      <td>5.000000</td>\n",
              "      <td>1.396483e+09</td>\n",
              "    </tr>\n",
              "    <tr>\n",
              "      <th>75%</th>\n",
              "      <td>1.000000</td>\n",
              "      <td>1.000000</td>\n",
              "      <td>5.000000</td>\n",
              "      <td>1.401257e+09</td>\n",
              "    </tr>\n",
              "    <tr>\n",
              "      <th>max</th>\n",
              "      <td>65.000000</td>\n",
              "      <td>86.000000</td>\n",
              "      <td>5.000000</td>\n",
              "      <td>1.406074e+09</td>\n",
              "    </tr>\n",
              "  </tbody>\n",
              "</table>\n",
              "</div>"
            ],
            "text/plain": [
              "       helpful__001  helpful__002      overall  unixReviewTime\n",
              "count   1000.000000   1000.000000  1000.000000    1.000000e+03\n",
              "mean       0.595000      0.819000     4.361000    1.396805e+09\n",
              "std        2.624092      3.589028     0.967272    5.078227e+06\n",
              "min        0.000000      0.000000     1.000000    1.388534e+09\n",
              "25%        0.000000      0.000000     4.000000    1.392422e+09\n",
              "50%        0.000000      0.000000     5.000000    1.396483e+09\n",
              "75%        1.000000      1.000000     5.000000    1.401257e+09\n",
              "max       65.000000     86.000000     5.000000    1.406074e+09"
            ]
          },
          "metadata": {
            "tags": []
          },
          "execution_count": 167
        }
      ]
    },
    {
      "cell_type": "code",
      "metadata": {
        "id": "T2bmtO9iMfah",
        "colab_type": "code",
        "colab": {
          "base_uri": "https://localhost:8080/",
          "height": 246
        },
        "outputId": "dc5a4929-186e-4340-e377-d294d7c55bfe"
      },
      "source": [
        "Books_small.head()"
      ],
      "execution_count": 168,
      "outputs": [
        {
          "output_type": "execute_result",
          "data": {
            "text/html": [
              "<div>\n",
              "<style scoped>\n",
              "    .dataframe tbody tr th:only-of-type {\n",
              "        vertical-align: middle;\n",
              "    }\n",
              "\n",
              "    .dataframe tbody tr th {\n",
              "        vertical-align: top;\n",
              "    }\n",
              "\n",
              "    .dataframe thead th {\n",
              "        text-align: right;\n",
              "    }\n",
              "</style>\n",
              "<table border=\"1\" class=\"dataframe\">\n",
              "  <thead>\n",
              "    <tr style=\"text-align: right;\">\n",
              "      <th></th>\n",
              "      <th>reviewerID</th>\n",
              "      <th>asin</th>\n",
              "      <th>reviewerName</th>\n",
              "      <th>helpful__001</th>\n",
              "      <th>helpful__002</th>\n",
              "      <th>reviewText</th>\n",
              "      <th>overall</th>\n",
              "      <th>summary</th>\n",
              "      <th>unixReviewTime</th>\n",
              "      <th>reviewTime</th>\n",
              "    </tr>\n",
              "  </thead>\n",
              "  <tbody>\n",
              "    <tr>\n",
              "      <th>0</th>\n",
              "      <td>A1E5ZR1Z4OQJG</td>\n",
              "      <td>1495329321</td>\n",
              "      <td>Pure Jonel \"Pure Jonel\"</td>\n",
              "      <td>0</td>\n",
              "      <td>0</td>\n",
              "      <td>Da Silva takes the divine by storm with this u...</td>\n",
              "      <td>4.0</td>\n",
              "      <td>An amazing first novel</td>\n",
              "      <td>1396137600</td>\n",
              "      <td>03 30, 2014</td>\n",
              "    </tr>\n",
              "    <tr>\n",
              "      <th>1</th>\n",
              "      <td>A30PZPI6FPH0A7</td>\n",
              "      <td>0399157565</td>\n",
              "      <td>Jackmollie</td>\n",
              "      <td>0</td>\n",
              "      <td>0</td>\n",
              "      <td>For me personally it's the most disappointing ...</td>\n",
              "      <td>2.0</td>\n",
              "      <td>disappointed</td>\n",
              "      <td>1400112000</td>\n",
              "      <td>05 15, 2014</td>\n",
              "    </tr>\n",
              "    <tr>\n",
              "      <th>2</th>\n",
              "      <td>A1GQ2UI5BKCCRD</td>\n",
              "      <td>0984528105</td>\n",
              "      <td>Gail Hodges</td>\n",
              "      <td>0</td>\n",
              "      <td>0</td>\n",
              "      <td>Very simple book, but leaves you feeling good....</td>\n",
              "      <td>4.0</td>\n",
              "      <td>Good book</td>\n",
              "      <td>1401235200</td>\n",
              "      <td>05 28, 2014</td>\n",
              "    </tr>\n",
              "    <tr>\n",
              "      <th>3</th>\n",
              "      <td>A2DF4LQQI6KSQ2</td>\n",
              "      <td>0804139024</td>\n",
              "      <td>Olga</td>\n",
              "      <td>0</td>\n",
              "      <td>0</td>\n",
              "      <td>I read a library copy of this exceptionally we...</td>\n",
              "      <td>5.0</td>\n",
              "      <td>Science Fiction at its best!</td>\n",
              "      <td>1396483200</td>\n",
              "      <td>04 3, 2014</td>\n",
              "    </tr>\n",
              "    <tr>\n",
              "      <th>4</th>\n",
              "      <td>A1UAMAWY966P2</td>\n",
              "      <td>0765317583</td>\n",
              "      <td>Nadyne M Ichimura</td>\n",
              "      <td>0</td>\n",
              "      <td>0</td>\n",
              "      <td>With the government knowing this could happen ...</td>\n",
              "      <td>5.0</td>\n",
              "      <td>Excellent story</td>\n",
              "      <td>1397001600</td>\n",
              "      <td>04 9, 2014</td>\n",
              "    </tr>\n",
              "  </tbody>\n",
              "</table>\n",
              "</div>"
            ],
            "text/plain": [
              "       reviewerID        asin  ... unixReviewTime   reviewTime\n",
              "0   A1E5ZR1Z4OQJG  1495329321  ...     1396137600  03 30, 2014\n",
              "1  A30PZPI6FPH0A7  0399157565  ...     1400112000  05 15, 2014\n",
              "2  A1GQ2UI5BKCCRD  0984528105  ...     1401235200  05 28, 2014\n",
              "3  A2DF4LQQI6KSQ2  0804139024  ...     1396483200   04 3, 2014\n",
              "4   A1UAMAWY966P2  0765317583  ...     1397001600   04 9, 2014\n",
              "\n",
              "[5 rows x 10 columns]"
            ]
          },
          "metadata": {
            "tags": []
          },
          "execution_count": 168
        }
      ]
    },
    {
      "cell_type": "code",
      "metadata": {
        "id": "UoBANhxdMxOy",
        "colab_type": "code",
        "colab": {
          "base_uri": "https://localhost:8080/",
          "height": 279
        },
        "outputId": "bfe5ef0e-4e68-4880-df57-15bbc69f8a77"
      },
      "source": [
        "Books_small.tail()"
      ],
      "execution_count": 169,
      "outputs": [
        {
          "output_type": "execute_result",
          "data": {
            "text/html": [
              "<div>\n",
              "<style scoped>\n",
              "    .dataframe tbody tr th:only-of-type {\n",
              "        vertical-align: middle;\n",
              "    }\n",
              "\n",
              "    .dataframe tbody tr th {\n",
              "        vertical-align: top;\n",
              "    }\n",
              "\n",
              "    .dataframe thead th {\n",
              "        text-align: right;\n",
              "    }\n",
              "</style>\n",
              "<table border=\"1\" class=\"dataframe\">\n",
              "  <thead>\n",
              "    <tr style=\"text-align: right;\">\n",
              "      <th></th>\n",
              "      <th>reviewerID</th>\n",
              "      <th>asin</th>\n",
              "      <th>reviewerName</th>\n",
              "      <th>helpful__001</th>\n",
              "      <th>helpful__002</th>\n",
              "      <th>reviewText</th>\n",
              "      <th>overall</th>\n",
              "      <th>summary</th>\n",
              "      <th>unixReviewTime</th>\n",
              "      <th>reviewTime</th>\n",
              "    </tr>\n",
              "  </thead>\n",
              "  <tbody>\n",
              "    <tr>\n",
              "      <th>995</th>\n",
              "      <td>A1Q3P5W409XK8I</td>\n",
              "      <td>0385346824</td>\n",
              "      <td>Wright</td>\n",
              "      <td>0</td>\n",
              "      <td>0</td>\n",
              "      <td>I thoroughly enjoyed this book. I've read the ...</td>\n",
              "      <td>5.0</td>\n",
              "      <td>A very fun read.</td>\n",
              "      <td>1404691200</td>\n",
              "      <td>07 7, 2014</td>\n",
              "    </tr>\n",
              "    <tr>\n",
              "      <th>996</th>\n",
              "      <td>AOFXJE92VZHJA</td>\n",
              "      <td>B00J9312KQ</td>\n",
              "      <td>LaVonMoffett \"heavy reader\"</td>\n",
              "      <td>0</td>\n",
              "      <td>0</td>\n",
              "      <td>I was impressed with not only the characters o...</td>\n",
              "      <td>5.0</td>\n",
              "      <td>Loved the story</td>\n",
              "      <td>1400371200</td>\n",
              "      <td>05 18, 2014</td>\n",
              "    </tr>\n",
              "    <tr>\n",
              "      <th>997</th>\n",
              "      <td>A1OH43Q6Q05ULQ</td>\n",
              "      <td>0553808036</td>\n",
              "      <td>Jaci</td>\n",
              "      <td>0</td>\n",
              "      <td>0</td>\n",
              "      <td>I like the characters.  I had read the short s...</td>\n",
              "      <td>5.0</td>\n",
              "      <td>Angels among us?</td>\n",
              "      <td>1396915200</td>\n",
              "      <td>04 8, 2014</td>\n",
              "    </tr>\n",
              "    <tr>\n",
              "      <th>998</th>\n",
              "      <td>A34QXHSIS1IFNS</td>\n",
              "      <td>B00BPTTFOW</td>\n",
              "      <td>H.Smith</td>\n",
              "      <td>8</td>\n",
              "      <td>9</td>\n",
              "      <td>She got way she wanted,but can she pick the ri...</td>\n",
              "      <td>5.0</td>\n",
              "      <td>Which one is the real one</td>\n",
              "      <td>1401408000</td>\n",
              "      <td>05 30, 2014</td>\n",
              "    </tr>\n",
              "    <tr>\n",
              "      <th>999</th>\n",
              "      <td>A1L1PDGJNOKGA</td>\n",
              "      <td>1490321101</td>\n",
              "      <td>L Doll \"L\"</td>\n",
              "      <td>0</td>\n",
              "      <td>0</td>\n",
              "      <td>All these twists, turns and discoveries. There...</td>\n",
              "      <td>5.0</td>\n",
              "      <td>YO!!!! Craziest Installment Ever!</td>\n",
              "      <td>1395187200</td>\n",
              "      <td>03 19, 2014</td>\n",
              "    </tr>\n",
              "  </tbody>\n",
              "</table>\n",
              "</div>"
            ],
            "text/plain": [
              "         reviewerID        asin  ... unixReviewTime   reviewTime\n",
              "995  A1Q3P5W409XK8I  0385346824  ...     1404691200   07 7, 2014\n",
              "996   AOFXJE92VZHJA  B00J9312KQ  ...     1400371200  05 18, 2014\n",
              "997  A1OH43Q6Q05ULQ  0553808036  ...     1396915200   04 8, 2014\n",
              "998  A34QXHSIS1IFNS  B00BPTTFOW  ...     1401408000  05 30, 2014\n",
              "999   A1L1PDGJNOKGA  1490321101  ...     1395187200  03 19, 2014\n",
              "\n",
              "[5 rows x 10 columns]"
            ]
          },
          "metadata": {
            "tags": []
          },
          "execution_count": 169
        }
      ]
    },
    {
      "cell_type": "code",
      "metadata": {
        "id": "Uk00CxW1M1B1",
        "colab_type": "code",
        "colab": {
          "base_uri": "https://localhost:8080/",
          "height": 67
        },
        "outputId": "29f4ebfd-a78e-4a45-ec38-c5e9cb98640d"
      },
      "source": [
        "Books_small.columns"
      ],
      "execution_count": 170,
      "outputs": [
        {
          "output_type": "execute_result",
          "data": {
            "text/plain": [
              "Index(['reviewerID', 'asin', 'reviewerName', 'helpful__001', 'helpful__002',\n",
              "       'reviewText', 'overall', 'summary', 'unixReviewTime', 'reviewTime'],\n",
              "      dtype='object')"
            ]
          },
          "metadata": {
            "tags": []
          },
          "execution_count": 170
        }
      ]
    },
    {
      "cell_type": "code",
      "metadata": {
        "id": "HADIF-SNNJh9",
        "colab_type": "code",
        "colab": {
          "base_uri": "https://localhost:8080/",
          "height": 302
        },
        "outputId": "e38be08a-4594-4a56-a49f-8c0a386cab48"
      },
      "source": [
        "Books_small.info()"
      ],
      "execution_count": 171,
      "outputs": [
        {
          "output_type": "stream",
          "text": [
            "<class 'pandas.core.frame.DataFrame'>\n",
            "RangeIndex: 1000 entries, 0 to 999\n",
            "Data columns (total 10 columns):\n",
            " #   Column          Non-Null Count  Dtype  \n",
            "---  ------          --------------  -----  \n",
            " 0   reviewerID      1000 non-null   object \n",
            " 1   asin            1000 non-null   object \n",
            " 2   reviewerName    998 non-null    object \n",
            " 3   helpful__001    1000 non-null   int64  \n",
            " 4   helpful__002    1000 non-null   int64  \n",
            " 5   reviewText      1000 non-null   object \n",
            " 6   overall         1000 non-null   float64\n",
            " 7   summary         1000 non-null   object \n",
            " 8   unixReviewTime  1000 non-null   int64  \n",
            " 9   reviewTime      1000 non-null   object \n",
            "dtypes: float64(1), int64(3), object(6)\n",
            "memory usage: 78.2+ KB\n"
          ],
          "name": "stdout"
        }
      ]
    },
    {
      "cell_type": "code",
      "metadata": {
        "id": "FoBAPn9nNUOx",
        "colab_type": "code",
        "colab": {
          "base_uri": "https://localhost:8080/",
          "height": 34
        },
        "outputId": "987827b1-8c46-4f21-d84a-2623adb8cb45"
      },
      "source": [
        "Books_small.index"
      ],
      "execution_count": 172,
      "outputs": [
        {
          "output_type": "execute_result",
          "data": {
            "text/plain": [
              "RangeIndex(start=0, stop=1000, step=1)"
            ]
          },
          "metadata": {
            "tags": []
          },
          "execution_count": 172
        }
      ]
    },
    {
      "cell_type": "code",
      "metadata": {
        "id": "dr9_NkGxNoaw",
        "colab_type": "code",
        "colab": {
          "base_uri": "https://localhost:8080/",
          "height": 402
        },
        "outputId": "5a1491fc-ee9e-4e4f-e9c5-376a7b194a63"
      },
      "source": [
        "Books_small.isnull()"
      ],
      "execution_count": 173,
      "outputs": [
        {
          "output_type": "execute_result",
          "data": {
            "text/html": [
              "<div>\n",
              "<style scoped>\n",
              "    .dataframe tbody tr th:only-of-type {\n",
              "        vertical-align: middle;\n",
              "    }\n",
              "\n",
              "    .dataframe tbody tr th {\n",
              "        vertical-align: top;\n",
              "    }\n",
              "\n",
              "    .dataframe thead th {\n",
              "        text-align: right;\n",
              "    }\n",
              "</style>\n",
              "<table border=\"1\" class=\"dataframe\">\n",
              "  <thead>\n",
              "    <tr style=\"text-align: right;\">\n",
              "      <th></th>\n",
              "      <th>reviewerID</th>\n",
              "      <th>asin</th>\n",
              "      <th>reviewerName</th>\n",
              "      <th>helpful__001</th>\n",
              "      <th>helpful__002</th>\n",
              "      <th>reviewText</th>\n",
              "      <th>overall</th>\n",
              "      <th>summary</th>\n",
              "      <th>unixReviewTime</th>\n",
              "      <th>reviewTime</th>\n",
              "    </tr>\n",
              "  </thead>\n",
              "  <tbody>\n",
              "    <tr>\n",
              "      <th>0</th>\n",
              "      <td>False</td>\n",
              "      <td>False</td>\n",
              "      <td>False</td>\n",
              "      <td>False</td>\n",
              "      <td>False</td>\n",
              "      <td>False</td>\n",
              "      <td>False</td>\n",
              "      <td>False</td>\n",
              "      <td>False</td>\n",
              "      <td>False</td>\n",
              "    </tr>\n",
              "    <tr>\n",
              "      <th>1</th>\n",
              "      <td>False</td>\n",
              "      <td>False</td>\n",
              "      <td>False</td>\n",
              "      <td>False</td>\n",
              "      <td>False</td>\n",
              "      <td>False</td>\n",
              "      <td>False</td>\n",
              "      <td>False</td>\n",
              "      <td>False</td>\n",
              "      <td>False</td>\n",
              "    </tr>\n",
              "    <tr>\n",
              "      <th>2</th>\n",
              "      <td>False</td>\n",
              "      <td>False</td>\n",
              "      <td>False</td>\n",
              "      <td>False</td>\n",
              "      <td>False</td>\n",
              "      <td>False</td>\n",
              "      <td>False</td>\n",
              "      <td>False</td>\n",
              "      <td>False</td>\n",
              "      <td>False</td>\n",
              "    </tr>\n",
              "    <tr>\n",
              "      <th>3</th>\n",
              "      <td>False</td>\n",
              "      <td>False</td>\n",
              "      <td>False</td>\n",
              "      <td>False</td>\n",
              "      <td>False</td>\n",
              "      <td>False</td>\n",
              "      <td>False</td>\n",
              "      <td>False</td>\n",
              "      <td>False</td>\n",
              "      <td>False</td>\n",
              "    </tr>\n",
              "    <tr>\n",
              "      <th>4</th>\n",
              "      <td>False</td>\n",
              "      <td>False</td>\n",
              "      <td>False</td>\n",
              "      <td>False</td>\n",
              "      <td>False</td>\n",
              "      <td>False</td>\n",
              "      <td>False</td>\n",
              "      <td>False</td>\n",
              "      <td>False</td>\n",
              "      <td>False</td>\n",
              "    </tr>\n",
              "    <tr>\n",
              "      <th>...</th>\n",
              "      <td>...</td>\n",
              "      <td>...</td>\n",
              "      <td>...</td>\n",
              "      <td>...</td>\n",
              "      <td>...</td>\n",
              "      <td>...</td>\n",
              "      <td>...</td>\n",
              "      <td>...</td>\n",
              "      <td>...</td>\n",
              "      <td>...</td>\n",
              "    </tr>\n",
              "    <tr>\n",
              "      <th>995</th>\n",
              "      <td>False</td>\n",
              "      <td>False</td>\n",
              "      <td>False</td>\n",
              "      <td>False</td>\n",
              "      <td>False</td>\n",
              "      <td>False</td>\n",
              "      <td>False</td>\n",
              "      <td>False</td>\n",
              "      <td>False</td>\n",
              "      <td>False</td>\n",
              "    </tr>\n",
              "    <tr>\n",
              "      <th>996</th>\n",
              "      <td>False</td>\n",
              "      <td>False</td>\n",
              "      <td>False</td>\n",
              "      <td>False</td>\n",
              "      <td>False</td>\n",
              "      <td>False</td>\n",
              "      <td>False</td>\n",
              "      <td>False</td>\n",
              "      <td>False</td>\n",
              "      <td>False</td>\n",
              "    </tr>\n",
              "    <tr>\n",
              "      <th>997</th>\n",
              "      <td>False</td>\n",
              "      <td>False</td>\n",
              "      <td>False</td>\n",
              "      <td>False</td>\n",
              "      <td>False</td>\n",
              "      <td>False</td>\n",
              "      <td>False</td>\n",
              "      <td>False</td>\n",
              "      <td>False</td>\n",
              "      <td>False</td>\n",
              "    </tr>\n",
              "    <tr>\n",
              "      <th>998</th>\n",
              "      <td>False</td>\n",
              "      <td>False</td>\n",
              "      <td>False</td>\n",
              "      <td>False</td>\n",
              "      <td>False</td>\n",
              "      <td>False</td>\n",
              "      <td>False</td>\n",
              "      <td>False</td>\n",
              "      <td>False</td>\n",
              "      <td>False</td>\n",
              "    </tr>\n",
              "    <tr>\n",
              "      <th>999</th>\n",
              "      <td>False</td>\n",
              "      <td>False</td>\n",
              "      <td>False</td>\n",
              "      <td>False</td>\n",
              "      <td>False</td>\n",
              "      <td>False</td>\n",
              "      <td>False</td>\n",
              "      <td>False</td>\n",
              "      <td>False</td>\n",
              "      <td>False</td>\n",
              "    </tr>\n",
              "  </tbody>\n",
              "</table>\n",
              "<p>1000 rows × 10 columns</p>\n",
              "</div>"
            ],
            "text/plain": [
              "     reviewerID   asin  reviewerName  ...  summary  unixReviewTime  reviewTime\n",
              "0         False  False         False  ...    False           False       False\n",
              "1         False  False         False  ...    False           False       False\n",
              "2         False  False         False  ...    False           False       False\n",
              "3         False  False         False  ...    False           False       False\n",
              "4         False  False         False  ...    False           False       False\n",
              "..          ...    ...           ...  ...      ...             ...         ...\n",
              "995       False  False         False  ...    False           False       False\n",
              "996       False  False         False  ...    False           False       False\n",
              "997       False  False         False  ...    False           False       False\n",
              "998       False  False         False  ...    False           False       False\n",
              "999       False  False         False  ...    False           False       False\n",
              "\n",
              "[1000 rows x 10 columns]"
            ]
          },
          "metadata": {
            "tags": []
          },
          "execution_count": 173
        }
      ]
    },
    {
      "cell_type": "code",
      "metadata": {
        "id": "CQErztgE7lHl",
        "colab_type": "code",
        "colab": {
          "base_uri": "https://localhost:8080/",
          "height": 34
        },
        "outputId": "4ca48b34-5f2e-4b76-d45a-52ebb658f72a"
      },
      "source": [
        "Sentiments=[]\n",
        "for num in Books_small['overall']:\n",
        "  if num>=3.5:\n",
        "    Sentiments.append(\"Positive\")\n",
        "  else:\n",
        "    Sentiments.append(\"Negative\")\n",
        "print(len(Sentiments))"
      ],
      "execution_count": 174,
      "outputs": [
        {
          "output_type": "stream",
          "text": [
            "1000\n"
          ],
          "name": "stdout"
        }
      ]
    },
    {
      "cell_type": "code",
      "metadata": {
        "id": "BlENmwbKC4Zp",
        "colab_type": "code",
        "colab": {
          "base_uri": "https://localhost:8080/",
          "height": 195
        },
        "outputId": "c15bf02a-4e38-420d-a2cb-6a2b3bc71bbc"
      },
      "source": [
        "data={'Ratings':Books_small['overall'],'Sentiments':Sentiments,'Customer Reviews':Books_small['reviewText']}\n",
        "Target_Data=pd.DataFrame(data)\n",
        "Target_Data.sample(5)"
      ],
      "execution_count": 175,
      "outputs": [
        {
          "output_type": "execute_result",
          "data": {
            "text/html": [
              "<div>\n",
              "<style scoped>\n",
              "    .dataframe tbody tr th:only-of-type {\n",
              "        vertical-align: middle;\n",
              "    }\n",
              "\n",
              "    .dataframe tbody tr th {\n",
              "        vertical-align: top;\n",
              "    }\n",
              "\n",
              "    .dataframe thead th {\n",
              "        text-align: right;\n",
              "    }\n",
              "</style>\n",
              "<table border=\"1\" class=\"dataframe\">\n",
              "  <thead>\n",
              "    <tr style=\"text-align: right;\">\n",
              "      <th></th>\n",
              "      <th>Ratings</th>\n",
              "      <th>Sentiments</th>\n",
              "      <th>Customer Reviews</th>\n",
              "    </tr>\n",
              "  </thead>\n",
              "  <tbody>\n",
              "    <tr>\n",
              "      <th>269</th>\n",
              "      <td>4.0</td>\n",
              "      <td>Positive</td>\n",
              "      <td>This is an excellent book that does not take s...</td>\n",
              "    </tr>\n",
              "    <tr>\n",
              "      <th>326</th>\n",
              "      <td>5.0</td>\n",
              "      <td>Positive</td>\n",
              "      <td>this is without a doubt one of the BEST sci-fi...</td>\n",
              "    </tr>\n",
              "    <tr>\n",
              "      <th>393</th>\n",
              "      <td>5.0</td>\n",
              "      <td>Positive</td>\n",
              "      <td>Gave it as a gift, big hit!  Great seller.</td>\n",
              "    </tr>\n",
              "    <tr>\n",
              "      <th>203</th>\n",
              "      <td>2.0</td>\n",
              "      <td>Negative</td>\n",
              "      <td>I did not like her style of writing.  Too word...</td>\n",
              "    </tr>\n",
              "    <tr>\n",
              "      <th>529</th>\n",
              "      <td>4.0</td>\n",
              "      <td>Positive</td>\n",
              "      <td>I received this book via NetGalley to give an ...</td>\n",
              "    </tr>\n",
              "  </tbody>\n",
              "</table>\n",
              "</div>"
            ],
            "text/plain": [
              "     Ratings Sentiments                                   Customer Reviews\n",
              "269      4.0   Positive  This is an excellent book that does not take s...\n",
              "326      5.0   Positive  this is without a doubt one of the BEST sci-fi...\n",
              "393      5.0   Positive         Gave it as a gift, big hit!  Great seller.\n",
              "203      2.0   Negative  I did not like her style of writing.  Too word...\n",
              "529      4.0   Positive  I received this book via NetGalley to give an ..."
            ]
          },
          "metadata": {
            "tags": []
          },
          "execution_count": 175
        }
      ]
    },
    {
      "cell_type": "code",
      "metadata": {
        "id": "n9AIVNWqGD0f",
        "colab_type": "code",
        "colab": {}
      },
      "source": [
        ""
      ],
      "execution_count": 175,
      "outputs": []
    }
  ]
}