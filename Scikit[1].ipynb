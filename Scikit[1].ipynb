{
  "nbformat": 4,
  "nbformat_minor": 0,
  "metadata": {
    "colab": {
      "name": "Scikit[1].ipynb",
      "provenance": [],
      "collapsed_sections": [],
      "authorship_tag": "ABX9TyNEBks3rpkC42I1fyW/K24E",
      "include_colab_link": true
    },
    "kernelspec": {
      "name": "python3",
      "display_name": "Python 3"
    }
  },
  "cells": [
    {
      "cell_type": "markdown",
      "metadata": {
        "id": "view-in-github",
        "colab_type": "text"
      },
      "source": [
        "<a href=\"https://colab.research.google.com/github/DataCrusade1999/Python/blob/master/Scikit%5B1%5D.ipynb\" target=\"_parent\"><img src=\"https://colab.research.google.com/assets/colab-badge.svg\" alt=\"Open In Colab\"/></a>"
      ]
    },
    {
      "cell_type": "code",
      "metadata": {
        "id": "nyhesJDs9-3Z"
      },
      "source": [
        "import io\n",
        "import numpy as np\n",
        "import pandas as pd\n",
        "import datetime\n",
        "from google.colab import files\n",
        "from sklearn.model_selection import train_test_split"
      ],
      "execution_count": 173,
      "outputs": []
    },
    {
      "cell_type": "markdown",
      "metadata": {
        "id": "Ht0mR3efLu1R"
      },
      "source": [
        "**LOADING DATA**"
      ]
    },
    {
      "cell_type": "code",
      "metadata": {
        "id": "XjVKp72oHXi8"
      },
      "source": [
        "url='https://raw.githubusercontent.com/DataCrusade1999/Python/master/Data/Books_small.csv'"
      ],
      "execution_count": 174,
      "outputs": []
    },
    {
      "cell_type": "code",
      "metadata": {
        "id": "UXrP4kMmIFJV",
        "outputId": "5839eb06-1067-42d9-faad-bb9bd114eea1",
        "colab": {
          "base_uri": "https://localhost:8080/",
          "height": 246
        }
      },
      "source": [
        "Books_small=pd.read_csv(url)\n",
        "Books_small.head()"
      ],
      "execution_count": 175,
      "outputs": [
        {
          "output_type": "execute_result",
          "data": {
            "text/html": [
              "<div>\n",
              "<style scoped>\n",
              "    .dataframe tbody tr th:only-of-type {\n",
              "        vertical-align: middle;\n",
              "    }\n",
              "\n",
              "    .dataframe tbody tr th {\n",
              "        vertical-align: top;\n",
              "    }\n",
              "\n",
              "    .dataframe thead th {\n",
              "        text-align: right;\n",
              "    }\n",
              "</style>\n",
              "<table border=\"1\" class=\"dataframe\">\n",
              "  <thead>\n",
              "    <tr style=\"text-align: right;\">\n",
              "      <th></th>\n",
              "      <th>reviewerID</th>\n",
              "      <th>asin</th>\n",
              "      <th>reviewerName</th>\n",
              "      <th>helpful__001</th>\n",
              "      <th>helpful__002</th>\n",
              "      <th>reviewText</th>\n",
              "      <th>overall</th>\n",
              "      <th>summary</th>\n",
              "      <th>unixReviewTime</th>\n",
              "      <th>reviewTime</th>\n",
              "    </tr>\n",
              "  </thead>\n",
              "  <tbody>\n",
              "    <tr>\n",
              "      <th>0</th>\n",
              "      <td>A1E5ZR1Z4OQJG</td>\n",
              "      <td>1495329321</td>\n",
              "      <td>Pure Jonel \"Pure Jonel\"</td>\n",
              "      <td>0</td>\n",
              "      <td>0</td>\n",
              "      <td>Da Silva takes the divine by storm with this u...</td>\n",
              "      <td>4.0</td>\n",
              "      <td>An amazing first novel</td>\n",
              "      <td>1396137600</td>\n",
              "      <td>03 30, 2014</td>\n",
              "    </tr>\n",
              "    <tr>\n",
              "      <th>1</th>\n",
              "      <td>A30PZPI6FPH0A7</td>\n",
              "      <td>0399157565</td>\n",
              "      <td>Jackmollie</td>\n",
              "      <td>0</td>\n",
              "      <td>0</td>\n",
              "      <td>For me personally it's the most disappointing ...</td>\n",
              "      <td>2.0</td>\n",
              "      <td>disappointed</td>\n",
              "      <td>1400112000</td>\n",
              "      <td>05 15, 2014</td>\n",
              "    </tr>\n",
              "    <tr>\n",
              "      <th>2</th>\n",
              "      <td>A1GQ2UI5BKCCRD</td>\n",
              "      <td>0984528105</td>\n",
              "      <td>Gail Hodges</td>\n",
              "      <td>0</td>\n",
              "      <td>0</td>\n",
              "      <td>Very simple book, but leaves you feeling good....</td>\n",
              "      <td>4.0</td>\n",
              "      <td>Good book</td>\n",
              "      <td>1401235200</td>\n",
              "      <td>05 28, 2014</td>\n",
              "    </tr>\n",
              "    <tr>\n",
              "      <th>3</th>\n",
              "      <td>A2DF4LQQI6KSQ2</td>\n",
              "      <td>0804139024</td>\n",
              "      <td>Olga</td>\n",
              "      <td>0</td>\n",
              "      <td>0</td>\n",
              "      <td>I read a library copy of this exceptionally we...</td>\n",
              "      <td>5.0</td>\n",
              "      <td>Science Fiction at its best!</td>\n",
              "      <td>1396483200</td>\n",
              "      <td>04 3, 2014</td>\n",
              "    </tr>\n",
              "    <tr>\n",
              "      <th>4</th>\n",
              "      <td>A1UAMAWY966P2</td>\n",
              "      <td>0765317583</td>\n",
              "      <td>Nadyne M Ichimura</td>\n",
              "      <td>0</td>\n",
              "      <td>0</td>\n",
              "      <td>With the government knowing this could happen ...</td>\n",
              "      <td>5.0</td>\n",
              "      <td>Excellent story</td>\n",
              "      <td>1397001600</td>\n",
              "      <td>04 9, 2014</td>\n",
              "    </tr>\n",
              "  </tbody>\n",
              "</table>\n",
              "</div>"
            ],
            "text/plain": [
              "       reviewerID        asin  ... unixReviewTime   reviewTime\n",
              "0   A1E5ZR1Z4OQJG  1495329321  ...     1396137600  03 30, 2014\n",
              "1  A30PZPI6FPH0A7  0399157565  ...     1400112000  05 15, 2014\n",
              "2  A1GQ2UI5BKCCRD  0984528105  ...     1401235200  05 28, 2014\n",
              "3  A2DF4LQQI6KSQ2  0804139024  ...     1396483200   04 3, 2014\n",
              "4   A1UAMAWY966P2  0765317583  ...     1397001600   04 9, 2014\n",
              "\n",
              "[5 rows x 10 columns]"
            ]
          },
          "metadata": {
            "tags": []
          },
          "execution_count": 175
        }
      ]
    },
    {
      "cell_type": "markdown",
      "metadata": {
        "id": "_11GnmwYLzT-"
      },
      "source": [
        "**PERFORMING EDA**"
      ]
    },
    {
      "cell_type": "markdown",
      "metadata": {
        "id": "xzQQM_uiXP7R"
      },
      "source": [
        "**In the first case below, we say \"give us the values of the rows with index from 0 to 999 (inclusive) and columns labeled from \"reviewText\" to \"overall\" (inclusive)\". In the second case, we say \"give us the values of all the rows in the columns 5 to 7\" (as in a typical Python slice: the maximal value is not included).**"
      ]
    },
    {
      "cell_type": "code",
      "metadata": {
        "id": "4eNWEvMfTuGQ",
        "outputId": "131d54f3-7448-4f1c-95ab-d6f18ed7149b",
        "colab": {
          "base_uri": "https://localhost:8080/",
          "height": 402
        }
      },
      "source": [
        "Books_small.loc[0:,'reviewText':'overall']"
      ],
      "execution_count": 176,
      "outputs": [
        {
          "output_type": "execute_result",
          "data": {
            "text/html": [
              "<div>\n",
              "<style scoped>\n",
              "    .dataframe tbody tr th:only-of-type {\n",
              "        vertical-align: middle;\n",
              "    }\n",
              "\n",
              "    .dataframe tbody tr th {\n",
              "        vertical-align: top;\n",
              "    }\n",
              "\n",
              "    .dataframe thead th {\n",
              "        text-align: right;\n",
              "    }\n",
              "</style>\n",
              "<table border=\"1\" class=\"dataframe\">\n",
              "  <thead>\n",
              "    <tr style=\"text-align: right;\">\n",
              "      <th></th>\n",
              "      <th>reviewText</th>\n",
              "      <th>overall</th>\n",
              "    </tr>\n",
              "  </thead>\n",
              "  <tbody>\n",
              "    <tr>\n",
              "      <th>0</th>\n",
              "      <td>Da Silva takes the divine by storm with this u...</td>\n",
              "      <td>4.0</td>\n",
              "    </tr>\n",
              "    <tr>\n",
              "      <th>1</th>\n",
              "      <td>For me personally it's the most disappointing ...</td>\n",
              "      <td>2.0</td>\n",
              "    </tr>\n",
              "    <tr>\n",
              "      <th>2</th>\n",
              "      <td>Very simple book, but leaves you feeling good....</td>\n",
              "      <td>4.0</td>\n",
              "    </tr>\n",
              "    <tr>\n",
              "      <th>3</th>\n",
              "      <td>I read a library copy of this exceptionally we...</td>\n",
              "      <td>5.0</td>\n",
              "    </tr>\n",
              "    <tr>\n",
              "      <th>4</th>\n",
              "      <td>With the government knowing this could happen ...</td>\n",
              "      <td>5.0</td>\n",
              "    </tr>\n",
              "    <tr>\n",
              "      <th>...</th>\n",
              "      <td>...</td>\n",
              "      <td>...</td>\n",
              "    </tr>\n",
              "    <tr>\n",
              "      <th>995</th>\n",
              "      <td>I thoroughly enjoyed this book. I've read the ...</td>\n",
              "      <td>5.0</td>\n",
              "    </tr>\n",
              "    <tr>\n",
              "      <th>996</th>\n",
              "      <td>I was impressed with not only the characters o...</td>\n",
              "      <td>5.0</td>\n",
              "    </tr>\n",
              "    <tr>\n",
              "      <th>997</th>\n",
              "      <td>I like the characters.  I had read the short s...</td>\n",
              "      <td>5.0</td>\n",
              "    </tr>\n",
              "    <tr>\n",
              "      <th>998</th>\n",
              "      <td>She got way she wanted,but can she pick the ri...</td>\n",
              "      <td>5.0</td>\n",
              "    </tr>\n",
              "    <tr>\n",
              "      <th>999</th>\n",
              "      <td>All these twists, turns and discoveries. There...</td>\n",
              "      <td>5.0</td>\n",
              "    </tr>\n",
              "  </tbody>\n",
              "</table>\n",
              "<p>1000 rows × 2 columns</p>\n",
              "</div>"
            ],
            "text/plain": [
              "                                            reviewText  overall\n",
              "0    Da Silva takes the divine by storm with this u...      4.0\n",
              "1    For me personally it's the most disappointing ...      2.0\n",
              "2    Very simple book, but leaves you feeling good....      4.0\n",
              "3    I read a library copy of this exceptionally we...      5.0\n",
              "4    With the government knowing this could happen ...      5.0\n",
              "..                                                 ...      ...\n",
              "995  I thoroughly enjoyed this book. I've read the ...      5.0\n",
              "996  I was impressed with not only the characters o...      5.0\n",
              "997  I like the characters.  I had read the short s...      5.0\n",
              "998  She got way she wanted,but can she pick the ri...      5.0\n",
              "999  All these twists, turns and discoveries. There...      5.0\n",
              "\n",
              "[1000 rows x 2 columns]"
            ]
          },
          "metadata": {
            "tags": []
          },
          "execution_count": 176
        }
      ]
    },
    {
      "cell_type": "code",
      "metadata": {
        "id": "MbOgkmgjSnfv",
        "outputId": "df9272a0-bff5-43fc-d865-090530b78fd9",
        "colab": {
          "base_uri": "https://localhost:8080/",
          "height": 402
        }
      },
      "source": [
        "Books_small.iloc[0:,5:7]"
      ],
      "execution_count": 177,
      "outputs": [
        {
          "output_type": "execute_result",
          "data": {
            "text/html": [
              "<div>\n",
              "<style scoped>\n",
              "    .dataframe tbody tr th:only-of-type {\n",
              "        vertical-align: middle;\n",
              "    }\n",
              "\n",
              "    .dataframe tbody tr th {\n",
              "        vertical-align: top;\n",
              "    }\n",
              "\n",
              "    .dataframe thead th {\n",
              "        text-align: right;\n",
              "    }\n",
              "</style>\n",
              "<table border=\"1\" class=\"dataframe\">\n",
              "  <thead>\n",
              "    <tr style=\"text-align: right;\">\n",
              "      <th></th>\n",
              "      <th>reviewText</th>\n",
              "      <th>overall</th>\n",
              "    </tr>\n",
              "  </thead>\n",
              "  <tbody>\n",
              "    <tr>\n",
              "      <th>0</th>\n",
              "      <td>Da Silva takes the divine by storm with this u...</td>\n",
              "      <td>4.0</td>\n",
              "    </tr>\n",
              "    <tr>\n",
              "      <th>1</th>\n",
              "      <td>For me personally it's the most disappointing ...</td>\n",
              "      <td>2.0</td>\n",
              "    </tr>\n",
              "    <tr>\n",
              "      <th>2</th>\n",
              "      <td>Very simple book, but leaves you feeling good....</td>\n",
              "      <td>4.0</td>\n",
              "    </tr>\n",
              "    <tr>\n",
              "      <th>3</th>\n",
              "      <td>I read a library copy of this exceptionally we...</td>\n",
              "      <td>5.0</td>\n",
              "    </tr>\n",
              "    <tr>\n",
              "      <th>4</th>\n",
              "      <td>With the government knowing this could happen ...</td>\n",
              "      <td>5.0</td>\n",
              "    </tr>\n",
              "    <tr>\n",
              "      <th>...</th>\n",
              "      <td>...</td>\n",
              "      <td>...</td>\n",
              "    </tr>\n",
              "    <tr>\n",
              "      <th>995</th>\n",
              "      <td>I thoroughly enjoyed this book. I've read the ...</td>\n",
              "      <td>5.0</td>\n",
              "    </tr>\n",
              "    <tr>\n",
              "      <th>996</th>\n",
              "      <td>I was impressed with not only the characters o...</td>\n",
              "      <td>5.0</td>\n",
              "    </tr>\n",
              "    <tr>\n",
              "      <th>997</th>\n",
              "      <td>I like the characters.  I had read the short s...</td>\n",
              "      <td>5.0</td>\n",
              "    </tr>\n",
              "    <tr>\n",
              "      <th>998</th>\n",
              "      <td>She got way she wanted,but can she pick the ri...</td>\n",
              "      <td>5.0</td>\n",
              "    </tr>\n",
              "    <tr>\n",
              "      <th>999</th>\n",
              "      <td>All these twists, turns and discoveries. There...</td>\n",
              "      <td>5.0</td>\n",
              "    </tr>\n",
              "  </tbody>\n",
              "</table>\n",
              "<p>1000 rows × 2 columns</p>\n",
              "</div>"
            ],
            "text/plain": [
              "                                            reviewText  overall\n",
              "0    Da Silva takes the divine by storm with this u...      4.0\n",
              "1    For me personally it's the most disappointing ...      2.0\n",
              "2    Very simple book, but leaves you feeling good....      4.0\n",
              "3    I read a library copy of this exceptionally we...      5.0\n",
              "4    With the government knowing this could happen ...      5.0\n",
              "..                                                 ...      ...\n",
              "995  I thoroughly enjoyed this book. I've read the ...      5.0\n",
              "996  I was impressed with not only the characters o...      5.0\n",
              "997  I like the characters.  I had read the short s...      5.0\n",
              "998  She got way she wanted,but can she pick the ri...      5.0\n",
              "999  All these twists, turns and discoveries. There...      5.0\n",
              "\n",
              "[1000 rows x 2 columns]"
            ]
          },
          "metadata": {
            "tags": []
          },
          "execution_count": 177
        }
      ]
    },
    {
      "cell_type": "code",
      "metadata": {
        "id": "XRoVuIVuK_-e",
        "outputId": "6054be65-0257-4fd5-c154-6711e943c6d2",
        "colab": {
          "base_uri": "https://localhost:8080/",
          "height": 34
        }
      },
      "source": [
        "Books_small.shape"
      ],
      "execution_count": 178,
      "outputs": [
        {
          "output_type": "execute_result",
          "data": {
            "text/plain": [
              "(1000, 10)"
            ]
          },
          "metadata": {
            "tags": []
          },
          "execution_count": 178
        }
      ]
    },
    {
      "cell_type": "code",
      "metadata": {
        "id": "-6YwDf4bPlIO",
        "outputId": "d1cd31f9-1792-457a-ca7f-333a7b955d64",
        "colab": {
          "base_uri": "https://localhost:8080/",
          "height": 118
        }
      },
      "source": [
        "Books_small['overall'].value_counts() #<---Gives Us Number Of Occurences Of A Particular Value in Digits"
      ],
      "execution_count": 179,
      "outputs": [
        {
          "output_type": "execute_result",
          "data": {
            "text/plain": [
              "5.0    609\n",
              "4.0    226\n",
              "3.0    103\n",
              "2.0     41\n",
              "1.0     21\n",
              "Name: overall, dtype: int64"
            ]
          },
          "metadata": {
            "tags": []
          },
          "execution_count": 179
        }
      ]
    },
    {
      "cell_type": "code",
      "metadata": {
        "id": "C_BBsKPPQz9p",
        "outputId": "e374a86d-b401-4f0b-f75f-7718eff25125",
        "colab": {
          "base_uri": "https://localhost:8080/",
          "height": 118
        }
      },
      "source": [
        "Books_small['overall'].value_counts(normalize=True)  #<---Gives Us Number Of Occurences Of A Particular Value in Fractions"
      ],
      "execution_count": 180,
      "outputs": [
        {
          "output_type": "execute_result",
          "data": {
            "text/plain": [
              "5.0    0.609\n",
              "4.0    0.226\n",
              "3.0    0.103\n",
              "2.0    0.041\n",
              "1.0    0.021\n",
              "Name: overall, dtype: float64"
            ]
          },
          "metadata": {
            "tags": []
          },
          "execution_count": 180
        }
      ]
    },
    {
      "cell_type": "code",
      "metadata": {
        "id": "gQafMBEJRR23",
        "outputId": "3bf7a3ce-00aa-444e-a728-ab86a11f501a",
        "colab": {
          "base_uri": "https://localhost:8080/",
          "height": 279
        }
      },
      "source": [
        "Books_small.sort_values(by='overall', ascending=False).head() #<--Starts From Big And Goes Down"
      ],
      "execution_count": 181,
      "outputs": [
        {
          "output_type": "execute_result",
          "data": {
            "text/html": [
              "<div>\n",
              "<style scoped>\n",
              "    .dataframe tbody tr th:only-of-type {\n",
              "        vertical-align: middle;\n",
              "    }\n",
              "\n",
              "    .dataframe tbody tr th {\n",
              "        vertical-align: top;\n",
              "    }\n",
              "\n",
              "    .dataframe thead th {\n",
              "        text-align: right;\n",
              "    }\n",
              "</style>\n",
              "<table border=\"1\" class=\"dataframe\">\n",
              "  <thead>\n",
              "    <tr style=\"text-align: right;\">\n",
              "      <th></th>\n",
              "      <th>reviewerID</th>\n",
              "      <th>asin</th>\n",
              "      <th>reviewerName</th>\n",
              "      <th>helpful__001</th>\n",
              "      <th>helpful__002</th>\n",
              "      <th>reviewText</th>\n",
              "      <th>overall</th>\n",
              "      <th>summary</th>\n",
              "      <th>unixReviewTime</th>\n",
              "      <th>reviewTime</th>\n",
              "    </tr>\n",
              "  </thead>\n",
              "  <tbody>\n",
              "    <tr>\n",
              "      <th>500</th>\n",
              "      <td>A11ESW62XMUL6H</td>\n",
              "      <td>B0043GX2FW</td>\n",
              "      <td>Helen Michael</td>\n",
              "      <td>0</td>\n",
              "      <td>0</td>\n",
              "      <td>I would recommend this book to my best friends...</td>\n",
              "      <td>5.0</td>\n",
              "      <td>Wild Irish Ride:  A Southern Steamy story</td>\n",
              "      <td>1397088000</td>\n",
              "      <td>04 10, 2014</td>\n",
              "    </tr>\n",
              "    <tr>\n",
              "      <th>584</th>\n",
              "      <td>A2WXVAY473ST5N</td>\n",
              "      <td>1476726507</td>\n",
              "      <td>Linda Burton \"Gabbie\"</td>\n",
              "      <td>0</td>\n",
              "      <td>0</td>\n",
              "      <td>This is a great read.  Both my husband and I l...</td>\n",
              "      <td>5.0</td>\n",
              "      <td>Tim</td>\n",
              "      <td>1389916800</td>\n",
              "      <td>01 17, 2014</td>\n",
              "    </tr>\n",
              "    <tr>\n",
              "      <th>569</th>\n",
              "      <td>A32VCGCYYRP8M4</td>\n",
              "      <td>1475051417</td>\n",
              "      <td>P. Skinner \"Patchance\"</td>\n",
              "      <td>1</td>\n",
              "      <td>1</td>\n",
              "      <td>You will never be sorry you picked this book.....</td>\n",
              "      <td>5.0</td>\n",
              "      <td>Great Reading</td>\n",
              "      <td>1397779200</td>\n",
              "      <td>04 18, 2014</td>\n",
              "    </tr>\n",
              "    <tr>\n",
              "      <th>570</th>\n",
              "      <td>A18NZFQ268AW0Z</td>\n",
              "      <td>B00JAOKSBI</td>\n",
              "      <td>Heather Cav</td>\n",
              "      <td>1</td>\n",
              "      <td>1</td>\n",
              "      <td>Loved loved loved this book.  Can not wait til...</td>\n",
              "      <td>5.0</td>\n",
              "      <td>loved this book</td>\n",
              "      <td>1397692800</td>\n",
              "      <td>04 17, 2014</td>\n",
              "    </tr>\n",
              "    <tr>\n",
              "      <th>571</th>\n",
              "      <td>A1UKSR0NE9B0KX</td>\n",
              "      <td>0983706352</td>\n",
              "      <td>Reiki Wonders</td>\n",
              "      <td>0</td>\n",
              "      <td>0</td>\n",
              "      <td>I'm pretty new to erotica usually favoring par...</td>\n",
              "      <td>5.0</td>\n",
              "      <td>New to Erotica, Smokin' Hot!</td>\n",
              "      <td>1404864000</td>\n",
              "      <td>07 9, 2014</td>\n",
              "    </tr>\n",
              "  </tbody>\n",
              "</table>\n",
              "</div>"
            ],
            "text/plain": [
              "         reviewerID        asin  ... unixReviewTime   reviewTime\n",
              "500  A11ESW62XMUL6H  B0043GX2FW  ...     1397088000  04 10, 2014\n",
              "584  A2WXVAY473ST5N  1476726507  ...     1389916800  01 17, 2014\n",
              "569  A32VCGCYYRP8M4  1475051417  ...     1397779200  04 18, 2014\n",
              "570  A18NZFQ268AW0Z  B00JAOKSBI  ...     1397692800  04 17, 2014\n",
              "571  A1UKSR0NE9B0KX  0983706352  ...     1404864000   07 9, 2014\n",
              "\n",
              "[5 rows x 10 columns]"
            ]
          },
          "metadata": {
            "tags": []
          },
          "execution_count": 181
        }
      ]
    },
    {
      "cell_type": "code",
      "metadata": {
        "id": "zww7iquURslI",
        "outputId": "0af6a5c1-5501-425c-bcae-09607e5559f3",
        "colab": {
          "base_uri": "https://localhost:8080/",
          "height": 279
        }
      },
      "source": [
        "Books_small.sort_values(by='overall', ascending=True).head() #<--Starts From Low And Goes Up"
      ],
      "execution_count": 182,
      "outputs": [
        {
          "output_type": "execute_result",
          "data": {
            "text/html": [
              "<div>\n",
              "<style scoped>\n",
              "    .dataframe tbody tr th:only-of-type {\n",
              "        vertical-align: middle;\n",
              "    }\n",
              "\n",
              "    .dataframe tbody tr th {\n",
              "        vertical-align: top;\n",
              "    }\n",
              "\n",
              "    .dataframe thead th {\n",
              "        text-align: right;\n",
              "    }\n",
              "</style>\n",
              "<table border=\"1\" class=\"dataframe\">\n",
              "  <thead>\n",
              "    <tr style=\"text-align: right;\">\n",
              "      <th></th>\n",
              "      <th>reviewerID</th>\n",
              "      <th>asin</th>\n",
              "      <th>reviewerName</th>\n",
              "      <th>helpful__001</th>\n",
              "      <th>helpful__002</th>\n",
              "      <th>reviewText</th>\n",
              "      <th>overall</th>\n",
              "      <th>summary</th>\n",
              "      <th>unixReviewTime</th>\n",
              "      <th>reviewTime</th>\n",
              "    </tr>\n",
              "  </thead>\n",
              "  <tbody>\n",
              "    <tr>\n",
              "      <th>30</th>\n",
              "      <td>A2PNJCX5LJOUKG</td>\n",
              "      <td>B00BF3EILI</td>\n",
              "      <td>Lisa/Sonya</td>\n",
              "      <td>0</td>\n",
              "      <td>2</td>\n",
              "      <td>I read a sample and it seemed ok.  The price w...</td>\n",
              "      <td>1.0</td>\n",
              "      <td>Don't waste your time or money.</td>\n",
              "      <td>1400284800</td>\n",
              "      <td>05 17, 2014</td>\n",
              "    </tr>\n",
              "    <tr>\n",
              "      <th>731</th>\n",
              "      <td>ASW9NL0GHXFWW</td>\n",
              "      <td>0615579930</td>\n",
              "      <td>Kasey Sterling</td>\n",
              "      <td>0</td>\n",
              "      <td>0</td>\n",
              "      <td>Repetitive. The entire 2nd book is basically t...</td>\n",
              "      <td>1.0</td>\n",
              "      <td>AGAIN AND AGAIN AND AGAIN AND AGAIN...</td>\n",
              "      <td>1404604800</td>\n",
              "      <td>07 6, 2014</td>\n",
              "    </tr>\n",
              "    <tr>\n",
              "      <th>834</th>\n",
              "      <td>ARBELHYW35HQI</td>\n",
              "      <td>B00FIUHQP4</td>\n",
              "      <td>JJ Zonvil</td>\n",
              "      <td>1</td>\n",
              "      <td>1</td>\n",
              "      <td>If you're expecting John Rain, read something ...</td>\n",
              "      <td>1.0</td>\n",
              "      <td>poor attempt at taking over the Rain character</td>\n",
              "      <td>1388707200</td>\n",
              "      <td>01 3, 2014</td>\n",
              "    </tr>\n",
              "    <tr>\n",
              "      <th>190</th>\n",
              "      <td>A2HVU3WFPAPT0X</td>\n",
              "      <td>B00I1P2QPI</td>\n",
              "      <td>ArthurW</td>\n",
              "      <td>5</td>\n",
              "      <td>5</td>\n",
              "      <td>This book has a few, general ideas on how to m...</td>\n",
              "      <td>1.0</td>\n",
              "      <td>A Sales Pitch, Not a Book</td>\n",
              "      <td>1391385600</td>\n",
              "      <td>02 3, 2014</td>\n",
              "    </tr>\n",
              "    <tr>\n",
              "      <th>966</th>\n",
              "      <td>A2MW2B7DMR057R</td>\n",
              "      <td>0938045040</td>\n",
              "      <td>Caleb D. Moyer</td>\n",
              "      <td>1</td>\n",
              "      <td>3</td>\n",
              "      <td>You're up shit creek, in a turd canoe, with a ...</td>\n",
              "      <td>1.0</td>\n",
              "      <td>Let me explain...</td>\n",
              "      <td>1391644800</td>\n",
              "      <td>02 6, 2014</td>\n",
              "    </tr>\n",
              "  </tbody>\n",
              "</table>\n",
              "</div>"
            ],
            "text/plain": [
              "         reviewerID        asin  ... unixReviewTime   reviewTime\n",
              "30   A2PNJCX5LJOUKG  B00BF3EILI  ...     1400284800  05 17, 2014\n",
              "731   ASW9NL0GHXFWW  0615579930  ...     1404604800   07 6, 2014\n",
              "834   ARBELHYW35HQI  B00FIUHQP4  ...     1388707200   01 3, 2014\n",
              "190  A2HVU3WFPAPT0X  B00I1P2QPI  ...     1391385600   02 3, 2014\n",
              "966  A2MW2B7DMR057R  0938045040  ...     1391644800   02 6, 2014\n",
              "\n",
              "[5 rows x 10 columns]"
            ]
          },
          "metadata": {
            "tags": []
          },
          "execution_count": 182
        }
      ]
    },
    {
      "cell_type": "code",
      "metadata": {
        "id": "5x_Ulh3AML6S",
        "outputId": "6db7266e-5ea8-4155-f1a2-0834de1a7f3e",
        "colab": {
          "base_uri": "https://localhost:8080/",
          "height": 284
        }
      },
      "source": [
        "Books_small.describe()"
      ],
      "execution_count": 183,
      "outputs": [
        {
          "output_type": "execute_result",
          "data": {
            "text/html": [
              "<div>\n",
              "<style scoped>\n",
              "    .dataframe tbody tr th:only-of-type {\n",
              "        vertical-align: middle;\n",
              "    }\n",
              "\n",
              "    .dataframe tbody tr th {\n",
              "        vertical-align: top;\n",
              "    }\n",
              "\n",
              "    .dataframe thead th {\n",
              "        text-align: right;\n",
              "    }\n",
              "</style>\n",
              "<table border=\"1\" class=\"dataframe\">\n",
              "  <thead>\n",
              "    <tr style=\"text-align: right;\">\n",
              "      <th></th>\n",
              "      <th>helpful__001</th>\n",
              "      <th>helpful__002</th>\n",
              "      <th>overall</th>\n",
              "      <th>unixReviewTime</th>\n",
              "    </tr>\n",
              "  </thead>\n",
              "  <tbody>\n",
              "    <tr>\n",
              "      <th>count</th>\n",
              "      <td>1000.000000</td>\n",
              "      <td>1000.000000</td>\n",
              "      <td>1000.000000</td>\n",
              "      <td>1.000000e+03</td>\n",
              "    </tr>\n",
              "    <tr>\n",
              "      <th>mean</th>\n",
              "      <td>0.595000</td>\n",
              "      <td>0.819000</td>\n",
              "      <td>4.361000</td>\n",
              "      <td>1.396805e+09</td>\n",
              "    </tr>\n",
              "    <tr>\n",
              "      <th>std</th>\n",
              "      <td>2.624092</td>\n",
              "      <td>3.589028</td>\n",
              "      <td>0.967272</td>\n",
              "      <td>5.078227e+06</td>\n",
              "    </tr>\n",
              "    <tr>\n",
              "      <th>min</th>\n",
              "      <td>0.000000</td>\n",
              "      <td>0.000000</td>\n",
              "      <td>1.000000</td>\n",
              "      <td>1.388534e+09</td>\n",
              "    </tr>\n",
              "    <tr>\n",
              "      <th>25%</th>\n",
              "      <td>0.000000</td>\n",
              "      <td>0.000000</td>\n",
              "      <td>4.000000</td>\n",
              "      <td>1.392422e+09</td>\n",
              "    </tr>\n",
              "    <tr>\n",
              "      <th>50%</th>\n",
              "      <td>0.000000</td>\n",
              "      <td>0.000000</td>\n",
              "      <td>5.000000</td>\n",
              "      <td>1.396483e+09</td>\n",
              "    </tr>\n",
              "    <tr>\n",
              "      <th>75%</th>\n",
              "      <td>1.000000</td>\n",
              "      <td>1.000000</td>\n",
              "      <td>5.000000</td>\n",
              "      <td>1.401257e+09</td>\n",
              "    </tr>\n",
              "    <tr>\n",
              "      <th>max</th>\n",
              "      <td>65.000000</td>\n",
              "      <td>86.000000</td>\n",
              "      <td>5.000000</td>\n",
              "      <td>1.406074e+09</td>\n",
              "    </tr>\n",
              "  </tbody>\n",
              "</table>\n",
              "</div>"
            ],
            "text/plain": [
              "       helpful__001  helpful__002      overall  unixReviewTime\n",
              "count   1000.000000   1000.000000  1000.000000    1.000000e+03\n",
              "mean       0.595000      0.819000     4.361000    1.396805e+09\n",
              "std        2.624092      3.589028     0.967272    5.078227e+06\n",
              "min        0.000000      0.000000     1.000000    1.388534e+09\n",
              "25%        0.000000      0.000000     4.000000    1.392422e+09\n",
              "50%        0.000000      0.000000     5.000000    1.396483e+09\n",
              "75%        1.000000      1.000000     5.000000    1.401257e+09\n",
              "max       65.000000     86.000000     5.000000    1.406074e+09"
            ]
          },
          "metadata": {
            "tags": []
          },
          "execution_count": 183
        }
      ]
    },
    {
      "cell_type": "code",
      "metadata": {
        "id": "T2bmtO9iMfah",
        "outputId": "fe82d1a6-55d8-424f-ec5f-f26b6cfa07a8",
        "colab": {
          "base_uri": "https://localhost:8080/",
          "height": 246
        }
      },
      "source": [
        "Books_small.head()"
      ],
      "execution_count": 184,
      "outputs": [
        {
          "output_type": "execute_result",
          "data": {
            "text/html": [
              "<div>\n",
              "<style scoped>\n",
              "    .dataframe tbody tr th:only-of-type {\n",
              "        vertical-align: middle;\n",
              "    }\n",
              "\n",
              "    .dataframe tbody tr th {\n",
              "        vertical-align: top;\n",
              "    }\n",
              "\n",
              "    .dataframe thead th {\n",
              "        text-align: right;\n",
              "    }\n",
              "</style>\n",
              "<table border=\"1\" class=\"dataframe\">\n",
              "  <thead>\n",
              "    <tr style=\"text-align: right;\">\n",
              "      <th></th>\n",
              "      <th>reviewerID</th>\n",
              "      <th>asin</th>\n",
              "      <th>reviewerName</th>\n",
              "      <th>helpful__001</th>\n",
              "      <th>helpful__002</th>\n",
              "      <th>reviewText</th>\n",
              "      <th>overall</th>\n",
              "      <th>summary</th>\n",
              "      <th>unixReviewTime</th>\n",
              "      <th>reviewTime</th>\n",
              "    </tr>\n",
              "  </thead>\n",
              "  <tbody>\n",
              "    <tr>\n",
              "      <th>0</th>\n",
              "      <td>A1E5ZR1Z4OQJG</td>\n",
              "      <td>1495329321</td>\n",
              "      <td>Pure Jonel \"Pure Jonel\"</td>\n",
              "      <td>0</td>\n",
              "      <td>0</td>\n",
              "      <td>Da Silva takes the divine by storm with this u...</td>\n",
              "      <td>4.0</td>\n",
              "      <td>An amazing first novel</td>\n",
              "      <td>1396137600</td>\n",
              "      <td>03 30, 2014</td>\n",
              "    </tr>\n",
              "    <tr>\n",
              "      <th>1</th>\n",
              "      <td>A30PZPI6FPH0A7</td>\n",
              "      <td>0399157565</td>\n",
              "      <td>Jackmollie</td>\n",
              "      <td>0</td>\n",
              "      <td>0</td>\n",
              "      <td>For me personally it's the most disappointing ...</td>\n",
              "      <td>2.0</td>\n",
              "      <td>disappointed</td>\n",
              "      <td>1400112000</td>\n",
              "      <td>05 15, 2014</td>\n",
              "    </tr>\n",
              "    <tr>\n",
              "      <th>2</th>\n",
              "      <td>A1GQ2UI5BKCCRD</td>\n",
              "      <td>0984528105</td>\n",
              "      <td>Gail Hodges</td>\n",
              "      <td>0</td>\n",
              "      <td>0</td>\n",
              "      <td>Very simple book, but leaves you feeling good....</td>\n",
              "      <td>4.0</td>\n",
              "      <td>Good book</td>\n",
              "      <td>1401235200</td>\n",
              "      <td>05 28, 2014</td>\n",
              "    </tr>\n",
              "    <tr>\n",
              "      <th>3</th>\n",
              "      <td>A2DF4LQQI6KSQ2</td>\n",
              "      <td>0804139024</td>\n",
              "      <td>Olga</td>\n",
              "      <td>0</td>\n",
              "      <td>0</td>\n",
              "      <td>I read a library copy of this exceptionally we...</td>\n",
              "      <td>5.0</td>\n",
              "      <td>Science Fiction at its best!</td>\n",
              "      <td>1396483200</td>\n",
              "      <td>04 3, 2014</td>\n",
              "    </tr>\n",
              "    <tr>\n",
              "      <th>4</th>\n",
              "      <td>A1UAMAWY966P2</td>\n",
              "      <td>0765317583</td>\n",
              "      <td>Nadyne M Ichimura</td>\n",
              "      <td>0</td>\n",
              "      <td>0</td>\n",
              "      <td>With the government knowing this could happen ...</td>\n",
              "      <td>5.0</td>\n",
              "      <td>Excellent story</td>\n",
              "      <td>1397001600</td>\n",
              "      <td>04 9, 2014</td>\n",
              "    </tr>\n",
              "  </tbody>\n",
              "</table>\n",
              "</div>"
            ],
            "text/plain": [
              "       reviewerID        asin  ... unixReviewTime   reviewTime\n",
              "0   A1E5ZR1Z4OQJG  1495329321  ...     1396137600  03 30, 2014\n",
              "1  A30PZPI6FPH0A7  0399157565  ...     1400112000  05 15, 2014\n",
              "2  A1GQ2UI5BKCCRD  0984528105  ...     1401235200  05 28, 2014\n",
              "3  A2DF4LQQI6KSQ2  0804139024  ...     1396483200   04 3, 2014\n",
              "4   A1UAMAWY966P2  0765317583  ...     1397001600   04 9, 2014\n",
              "\n",
              "[5 rows x 10 columns]"
            ]
          },
          "metadata": {
            "tags": []
          },
          "execution_count": 184
        }
      ]
    },
    {
      "cell_type": "code",
      "metadata": {
        "id": "UoBANhxdMxOy",
        "outputId": "58aa5124-4a46-4d6a-d28a-41adaa5395bb",
        "colab": {
          "base_uri": "https://localhost:8080/",
          "height": 279
        }
      },
      "source": [
        "Books_small.tail()"
      ],
      "execution_count": 185,
      "outputs": [
        {
          "output_type": "execute_result",
          "data": {
            "text/html": [
              "<div>\n",
              "<style scoped>\n",
              "    .dataframe tbody tr th:only-of-type {\n",
              "        vertical-align: middle;\n",
              "    }\n",
              "\n",
              "    .dataframe tbody tr th {\n",
              "        vertical-align: top;\n",
              "    }\n",
              "\n",
              "    .dataframe thead th {\n",
              "        text-align: right;\n",
              "    }\n",
              "</style>\n",
              "<table border=\"1\" class=\"dataframe\">\n",
              "  <thead>\n",
              "    <tr style=\"text-align: right;\">\n",
              "      <th></th>\n",
              "      <th>reviewerID</th>\n",
              "      <th>asin</th>\n",
              "      <th>reviewerName</th>\n",
              "      <th>helpful__001</th>\n",
              "      <th>helpful__002</th>\n",
              "      <th>reviewText</th>\n",
              "      <th>overall</th>\n",
              "      <th>summary</th>\n",
              "      <th>unixReviewTime</th>\n",
              "      <th>reviewTime</th>\n",
              "    </tr>\n",
              "  </thead>\n",
              "  <tbody>\n",
              "    <tr>\n",
              "      <th>995</th>\n",
              "      <td>A1Q3P5W409XK8I</td>\n",
              "      <td>0385346824</td>\n",
              "      <td>Wright</td>\n",
              "      <td>0</td>\n",
              "      <td>0</td>\n",
              "      <td>I thoroughly enjoyed this book. I've read the ...</td>\n",
              "      <td>5.0</td>\n",
              "      <td>A very fun read.</td>\n",
              "      <td>1404691200</td>\n",
              "      <td>07 7, 2014</td>\n",
              "    </tr>\n",
              "    <tr>\n",
              "      <th>996</th>\n",
              "      <td>AOFXJE92VZHJA</td>\n",
              "      <td>B00J9312KQ</td>\n",
              "      <td>LaVonMoffett \"heavy reader\"</td>\n",
              "      <td>0</td>\n",
              "      <td>0</td>\n",
              "      <td>I was impressed with not only the characters o...</td>\n",
              "      <td>5.0</td>\n",
              "      <td>Loved the story</td>\n",
              "      <td>1400371200</td>\n",
              "      <td>05 18, 2014</td>\n",
              "    </tr>\n",
              "    <tr>\n",
              "      <th>997</th>\n",
              "      <td>A1OH43Q6Q05ULQ</td>\n",
              "      <td>0553808036</td>\n",
              "      <td>Jaci</td>\n",
              "      <td>0</td>\n",
              "      <td>0</td>\n",
              "      <td>I like the characters.  I had read the short s...</td>\n",
              "      <td>5.0</td>\n",
              "      <td>Angels among us?</td>\n",
              "      <td>1396915200</td>\n",
              "      <td>04 8, 2014</td>\n",
              "    </tr>\n",
              "    <tr>\n",
              "      <th>998</th>\n",
              "      <td>A34QXHSIS1IFNS</td>\n",
              "      <td>B00BPTTFOW</td>\n",
              "      <td>H.Smith</td>\n",
              "      <td>8</td>\n",
              "      <td>9</td>\n",
              "      <td>She got way she wanted,but can she pick the ri...</td>\n",
              "      <td>5.0</td>\n",
              "      <td>Which one is the real one</td>\n",
              "      <td>1401408000</td>\n",
              "      <td>05 30, 2014</td>\n",
              "    </tr>\n",
              "    <tr>\n",
              "      <th>999</th>\n",
              "      <td>A1L1PDGJNOKGA</td>\n",
              "      <td>1490321101</td>\n",
              "      <td>L Doll \"L\"</td>\n",
              "      <td>0</td>\n",
              "      <td>0</td>\n",
              "      <td>All these twists, turns and discoveries. There...</td>\n",
              "      <td>5.0</td>\n",
              "      <td>YO!!!! Craziest Installment Ever!</td>\n",
              "      <td>1395187200</td>\n",
              "      <td>03 19, 2014</td>\n",
              "    </tr>\n",
              "  </tbody>\n",
              "</table>\n",
              "</div>"
            ],
            "text/plain": [
              "         reviewerID        asin  ... unixReviewTime   reviewTime\n",
              "995  A1Q3P5W409XK8I  0385346824  ...     1404691200   07 7, 2014\n",
              "996   AOFXJE92VZHJA  B00J9312KQ  ...     1400371200  05 18, 2014\n",
              "997  A1OH43Q6Q05ULQ  0553808036  ...     1396915200   04 8, 2014\n",
              "998  A34QXHSIS1IFNS  B00BPTTFOW  ...     1401408000  05 30, 2014\n",
              "999   A1L1PDGJNOKGA  1490321101  ...     1395187200  03 19, 2014\n",
              "\n",
              "[5 rows x 10 columns]"
            ]
          },
          "metadata": {
            "tags": []
          },
          "execution_count": 185
        }
      ]
    },
    {
      "cell_type": "code",
      "metadata": {
        "id": "Uk00CxW1M1B1",
        "outputId": "14ad4e0f-afc7-43f5-a063-ebe132508154",
        "colab": {
          "base_uri": "https://localhost:8080/",
          "height": 67
        }
      },
      "source": [
        "Books_small.columns"
      ],
      "execution_count": 186,
      "outputs": [
        {
          "output_type": "execute_result",
          "data": {
            "text/plain": [
              "Index(['reviewerID', 'asin', 'reviewerName', 'helpful__001', 'helpful__002',\n",
              "       'reviewText', 'overall', 'summary', 'unixReviewTime', 'reviewTime'],\n",
              "      dtype='object')"
            ]
          },
          "metadata": {
            "tags": []
          },
          "execution_count": 186
        }
      ]
    },
    {
      "cell_type": "code",
      "metadata": {
        "id": "HADIF-SNNJh9",
        "outputId": "7fbfd56c-6a56-4c1b-f225-eaddea6987ca",
        "colab": {
          "base_uri": "https://localhost:8080/",
          "height": 302
        }
      },
      "source": [
        "Books_small.info()"
      ],
      "execution_count": 187,
      "outputs": [
        {
          "output_type": "stream",
          "text": [
            "<class 'pandas.core.frame.DataFrame'>\n",
            "RangeIndex: 1000 entries, 0 to 999\n",
            "Data columns (total 10 columns):\n",
            " #   Column          Non-Null Count  Dtype  \n",
            "---  ------          --------------  -----  \n",
            " 0   reviewerID      1000 non-null   object \n",
            " 1   asin            1000 non-null   object \n",
            " 2   reviewerName    998 non-null    object \n",
            " 3   helpful__001    1000 non-null   int64  \n",
            " 4   helpful__002    1000 non-null   int64  \n",
            " 5   reviewText      1000 non-null   object \n",
            " 6   overall         1000 non-null   float64\n",
            " 7   summary         1000 non-null   object \n",
            " 8   unixReviewTime  1000 non-null   int64  \n",
            " 9   reviewTime      1000 non-null   object \n",
            "dtypes: float64(1), int64(3), object(6)\n",
            "memory usage: 78.2+ KB\n"
          ],
          "name": "stdout"
        }
      ]
    },
    {
      "cell_type": "code",
      "metadata": {
        "id": "FoBAPn9nNUOx",
        "outputId": "23ebc4b8-9ffc-4d15-d722-ee10f64d27bd",
        "colab": {
          "base_uri": "https://localhost:8080/",
          "height": 34
        }
      },
      "source": [
        "Books_small.index"
      ],
      "execution_count": 188,
      "outputs": [
        {
          "output_type": "execute_result",
          "data": {
            "text/plain": [
              "RangeIndex(start=0, stop=1000, step=1)"
            ]
          },
          "metadata": {
            "tags": []
          },
          "execution_count": 188
        }
      ]
    },
    {
      "cell_type": "code",
      "metadata": {
        "id": "dr9_NkGxNoaw",
        "outputId": "8202162c-073c-4cf0-cdd8-6fd50a002c67",
        "colab": {
          "base_uri": "https://localhost:8080/",
          "height": 402
        }
      },
      "source": [
        "Books_small.isnull()"
      ],
      "execution_count": 189,
      "outputs": [
        {
          "output_type": "execute_result",
          "data": {
            "text/html": [
              "<div>\n",
              "<style scoped>\n",
              "    .dataframe tbody tr th:only-of-type {\n",
              "        vertical-align: middle;\n",
              "    }\n",
              "\n",
              "    .dataframe tbody tr th {\n",
              "        vertical-align: top;\n",
              "    }\n",
              "\n",
              "    .dataframe thead th {\n",
              "        text-align: right;\n",
              "    }\n",
              "</style>\n",
              "<table border=\"1\" class=\"dataframe\">\n",
              "  <thead>\n",
              "    <tr style=\"text-align: right;\">\n",
              "      <th></th>\n",
              "      <th>reviewerID</th>\n",
              "      <th>asin</th>\n",
              "      <th>reviewerName</th>\n",
              "      <th>helpful__001</th>\n",
              "      <th>helpful__002</th>\n",
              "      <th>reviewText</th>\n",
              "      <th>overall</th>\n",
              "      <th>summary</th>\n",
              "      <th>unixReviewTime</th>\n",
              "      <th>reviewTime</th>\n",
              "    </tr>\n",
              "  </thead>\n",
              "  <tbody>\n",
              "    <tr>\n",
              "      <th>0</th>\n",
              "      <td>False</td>\n",
              "      <td>False</td>\n",
              "      <td>False</td>\n",
              "      <td>False</td>\n",
              "      <td>False</td>\n",
              "      <td>False</td>\n",
              "      <td>False</td>\n",
              "      <td>False</td>\n",
              "      <td>False</td>\n",
              "      <td>False</td>\n",
              "    </tr>\n",
              "    <tr>\n",
              "      <th>1</th>\n",
              "      <td>False</td>\n",
              "      <td>False</td>\n",
              "      <td>False</td>\n",
              "      <td>False</td>\n",
              "      <td>False</td>\n",
              "      <td>False</td>\n",
              "      <td>False</td>\n",
              "      <td>False</td>\n",
              "      <td>False</td>\n",
              "      <td>False</td>\n",
              "    </tr>\n",
              "    <tr>\n",
              "      <th>2</th>\n",
              "      <td>False</td>\n",
              "      <td>False</td>\n",
              "      <td>False</td>\n",
              "      <td>False</td>\n",
              "      <td>False</td>\n",
              "      <td>False</td>\n",
              "      <td>False</td>\n",
              "      <td>False</td>\n",
              "      <td>False</td>\n",
              "      <td>False</td>\n",
              "    </tr>\n",
              "    <tr>\n",
              "      <th>3</th>\n",
              "      <td>False</td>\n",
              "      <td>False</td>\n",
              "      <td>False</td>\n",
              "      <td>False</td>\n",
              "      <td>False</td>\n",
              "      <td>False</td>\n",
              "      <td>False</td>\n",
              "      <td>False</td>\n",
              "      <td>False</td>\n",
              "      <td>False</td>\n",
              "    </tr>\n",
              "    <tr>\n",
              "      <th>4</th>\n",
              "      <td>False</td>\n",
              "      <td>False</td>\n",
              "      <td>False</td>\n",
              "      <td>False</td>\n",
              "      <td>False</td>\n",
              "      <td>False</td>\n",
              "      <td>False</td>\n",
              "      <td>False</td>\n",
              "      <td>False</td>\n",
              "      <td>False</td>\n",
              "    </tr>\n",
              "    <tr>\n",
              "      <th>...</th>\n",
              "      <td>...</td>\n",
              "      <td>...</td>\n",
              "      <td>...</td>\n",
              "      <td>...</td>\n",
              "      <td>...</td>\n",
              "      <td>...</td>\n",
              "      <td>...</td>\n",
              "      <td>...</td>\n",
              "      <td>...</td>\n",
              "      <td>...</td>\n",
              "    </tr>\n",
              "    <tr>\n",
              "      <th>995</th>\n",
              "      <td>False</td>\n",
              "      <td>False</td>\n",
              "      <td>False</td>\n",
              "      <td>False</td>\n",
              "      <td>False</td>\n",
              "      <td>False</td>\n",
              "      <td>False</td>\n",
              "      <td>False</td>\n",
              "      <td>False</td>\n",
              "      <td>False</td>\n",
              "    </tr>\n",
              "    <tr>\n",
              "      <th>996</th>\n",
              "      <td>False</td>\n",
              "      <td>False</td>\n",
              "      <td>False</td>\n",
              "      <td>False</td>\n",
              "      <td>False</td>\n",
              "      <td>False</td>\n",
              "      <td>False</td>\n",
              "      <td>False</td>\n",
              "      <td>False</td>\n",
              "      <td>False</td>\n",
              "    </tr>\n",
              "    <tr>\n",
              "      <th>997</th>\n",
              "      <td>False</td>\n",
              "      <td>False</td>\n",
              "      <td>False</td>\n",
              "      <td>False</td>\n",
              "      <td>False</td>\n",
              "      <td>False</td>\n",
              "      <td>False</td>\n",
              "      <td>False</td>\n",
              "      <td>False</td>\n",
              "      <td>False</td>\n",
              "    </tr>\n",
              "    <tr>\n",
              "      <th>998</th>\n",
              "      <td>False</td>\n",
              "      <td>False</td>\n",
              "      <td>False</td>\n",
              "      <td>False</td>\n",
              "      <td>False</td>\n",
              "      <td>False</td>\n",
              "      <td>False</td>\n",
              "      <td>False</td>\n",
              "      <td>False</td>\n",
              "      <td>False</td>\n",
              "    </tr>\n",
              "    <tr>\n",
              "      <th>999</th>\n",
              "      <td>False</td>\n",
              "      <td>False</td>\n",
              "      <td>False</td>\n",
              "      <td>False</td>\n",
              "      <td>False</td>\n",
              "      <td>False</td>\n",
              "      <td>False</td>\n",
              "      <td>False</td>\n",
              "      <td>False</td>\n",
              "      <td>False</td>\n",
              "    </tr>\n",
              "  </tbody>\n",
              "</table>\n",
              "<p>1000 rows × 10 columns</p>\n",
              "</div>"
            ],
            "text/plain": [
              "     reviewerID   asin  reviewerName  ...  summary  unixReviewTime  reviewTime\n",
              "0         False  False         False  ...    False           False       False\n",
              "1         False  False         False  ...    False           False       False\n",
              "2         False  False         False  ...    False           False       False\n",
              "3         False  False         False  ...    False           False       False\n",
              "4         False  False         False  ...    False           False       False\n",
              "..          ...    ...           ...  ...      ...             ...         ...\n",
              "995       False  False         False  ...    False           False       False\n",
              "996       False  False         False  ...    False           False       False\n",
              "997       False  False         False  ...    False           False       False\n",
              "998       False  False         False  ...    False           False       False\n",
              "999       False  False         False  ...    False           False       False\n",
              "\n",
              "[1000 rows x 10 columns]"
            ]
          },
          "metadata": {
            "tags": []
          },
          "execution_count": 189
        }
      ]
    },
    {
      "cell_type": "code",
      "metadata": {
        "id": "CQErztgE7lHl",
        "outputId": "3e1c58fe-8d8f-4b0f-8d4a-cf47b7b48f69",
        "colab": {
          "base_uri": "https://localhost:8080/",
          "height": 34
        }
      },
      "source": [
        "Sentiments=[]\n",
        "for num in Books_small['overall']:\n",
        "  if num>=3.5:\n",
        "    Sentiments.append(\"Positive\")\n",
        "  else:\n",
        "    Sentiments.append(\"Negative\")\n",
        "print(len(Sentiments))"
      ],
      "execution_count": 190,
      "outputs": [
        {
          "output_type": "stream",
          "text": [
            "1000\n"
          ],
          "name": "stdout"
        }
      ]
    },
    {
      "cell_type": "code",
      "metadata": {
        "id": "BlENmwbKC4Zp",
        "outputId": "59ec74cc-49f1-44cf-f3c8-596bab11151d",
        "colab": {
          "base_uri": "https://localhost:8080/",
          "height": 195
        }
      },
      "source": [
        "data={'Ratings':Books_small['overall'],'Sentiments':Sentiments,'Customer Reviews':Books_small['reviewText']}\n",
        "Target_Data=pd.DataFrame(data)\n",
        "Target_Data.sample(5)"
      ],
      "execution_count": 191,
      "outputs": [
        {
          "output_type": "execute_result",
          "data": {
            "text/html": [
              "<div>\n",
              "<style scoped>\n",
              "    .dataframe tbody tr th:only-of-type {\n",
              "        vertical-align: middle;\n",
              "    }\n",
              "\n",
              "    .dataframe tbody tr th {\n",
              "        vertical-align: top;\n",
              "    }\n",
              "\n",
              "    .dataframe thead th {\n",
              "        text-align: right;\n",
              "    }\n",
              "</style>\n",
              "<table border=\"1\" class=\"dataframe\">\n",
              "  <thead>\n",
              "    <tr style=\"text-align: right;\">\n",
              "      <th></th>\n",
              "      <th>Ratings</th>\n",
              "      <th>Sentiments</th>\n",
              "      <th>Customer Reviews</th>\n",
              "    </tr>\n",
              "  </thead>\n",
              "  <tbody>\n",
              "    <tr>\n",
              "      <th>772</th>\n",
              "      <td>5.0</td>\n",
              "      <td>Positive</td>\n",
              "      <td>I loved this books. I have read four of the Se...</td>\n",
              "    </tr>\n",
              "    <tr>\n",
              "      <th>434</th>\n",
              "      <td>4.0</td>\n",
              "      <td>Positive</td>\n",
              "      <td>I really liked this second novel in the Limeli...</td>\n",
              "    </tr>\n",
              "    <tr>\n",
              "      <th>874</th>\n",
              "      <td>5.0</td>\n",
              "      <td>Positive</td>\n",
              "      <td>I couldn't put this book down.  It kept you wa...</td>\n",
              "    </tr>\n",
              "    <tr>\n",
              "      <th>141</th>\n",
              "      <td>5.0</td>\n",
              "      <td>Positive</td>\n",
              "      <td>Three Weeks With Lady X is Eloisa James at the...</td>\n",
              "    </tr>\n",
              "    <tr>\n",
              "      <th>158</th>\n",
              "      <td>5.0</td>\n",
              "      <td>Positive</td>\n",
              "      <td>I am a long time Mary Balogh fan, and this is ...</td>\n",
              "    </tr>\n",
              "  </tbody>\n",
              "</table>\n",
              "</div>"
            ],
            "text/plain": [
              "     Ratings Sentiments                                   Customer Reviews\n",
              "772      5.0   Positive  I loved this books. I have read four of the Se...\n",
              "434      4.0   Positive  I really liked this second novel in the Limeli...\n",
              "874      5.0   Positive  I couldn't put this book down.  It kept you wa...\n",
              "141      5.0   Positive  Three Weeks With Lady X is Eloisa James at the...\n",
              "158      5.0   Positive  I am a long time Mary Balogh fan, and this is ..."
            ]
          },
          "metadata": {
            "tags": []
          },
          "execution_count": 191
        }
      ]
    },
    {
      "cell_type": "code",
      "metadata": {
        "id": "nITm2E4O2B9F"
      },
      "source": [
        "training,test=train_test_split(Target_Data,test_size=0.33,random_state=42)"
      ],
      "execution_count": 192,
      "outputs": []
    },
    {
      "cell_type": "code",
      "metadata": {
        "id": "n9AIVNWqGD0f",
        "outputId": "1fc8d8c2-4af8-4088-f3ab-92d7cdcc0c71",
        "colab": {
          "base_uri": "https://localhost:8080/",
          "height": 34
        }
      },
      "source": [
        "training.shape"
      ],
      "execution_count": 193,
      "outputs": [
        {
          "output_type": "execute_result",
          "data": {
            "text/plain": [
              "(670, 3)"
            ]
          },
          "metadata": {
            "tags": []
          },
          "execution_count": 193
        }
      ]
    },
    {
      "cell_type": "code",
      "metadata": {
        "id": "kH08nIEv4GN2",
        "outputId": "544a286e-728d-4c87-c74f-169cd1e8fe2f",
        "colab": {
          "base_uri": "https://localhost:8080/",
          "height": 34
        }
      },
      "source": [
        "test.shape"
      ],
      "execution_count": 194,
      "outputs": [
        {
          "output_type": "execute_result",
          "data": {
            "text/plain": [
              "(330, 3)"
            ]
          },
          "metadata": {
            "tags": []
          },
          "execution_count": 194
        }
      ]
    },
    {
      "cell_type": "code",
      "metadata": {
        "id": "GgUBcS8v5ylV",
        "outputId": "003f8ea1-209b-4f27-df49-db3a6224111d",
        "colab": {
          "base_uri": "https://localhost:8080/",
          "height": 402
        }
      },
      "source": [
        "training"
      ],
      "execution_count": 195,
      "outputs": [
        {
          "output_type": "execute_result",
          "data": {
            "text/html": [
              "<div>\n",
              "<style scoped>\n",
              "    .dataframe tbody tr th:only-of-type {\n",
              "        vertical-align: middle;\n",
              "    }\n",
              "\n",
              "    .dataframe tbody tr th {\n",
              "        vertical-align: top;\n",
              "    }\n",
              "\n",
              "    .dataframe thead th {\n",
              "        text-align: right;\n",
              "    }\n",
              "</style>\n",
              "<table border=\"1\" class=\"dataframe\">\n",
              "  <thead>\n",
              "    <tr style=\"text-align: right;\">\n",
              "      <th></th>\n",
              "      <th>Ratings</th>\n",
              "      <th>Sentiments</th>\n",
              "      <th>Customer Reviews</th>\n",
              "    </tr>\n",
              "  </thead>\n",
              "  <tbody>\n",
              "    <tr>\n",
              "      <th>703</th>\n",
              "      <td>5.0</td>\n",
              "      <td>Positive</td>\n",
              "      <td>Vivid characters and descriptions. The author ...</td>\n",
              "    </tr>\n",
              "    <tr>\n",
              "      <th>311</th>\n",
              "      <td>5.0</td>\n",
              "      <td>Positive</td>\n",
              "      <td>Oh this is an awful bookA delightful awful boo...</td>\n",
              "    </tr>\n",
              "    <tr>\n",
              "      <th>722</th>\n",
              "      <td>5.0</td>\n",
              "      <td>Positive</td>\n",
              "      <td>Mitchell has really gifted us with a gem. He p...</td>\n",
              "    </tr>\n",
              "    <tr>\n",
              "      <th>629</th>\n",
              "      <td>4.0</td>\n",
              "      <td>Positive</td>\n",
              "      <td>Felt like I was floating down the river...Soli...</td>\n",
              "    </tr>\n",
              "    <tr>\n",
              "      <th>0</th>\n",
              "      <td>4.0</td>\n",
              "      <td>Positive</td>\n",
              "      <td>Da Silva takes the divine by storm with this u...</td>\n",
              "    </tr>\n",
              "    <tr>\n",
              "      <th>...</th>\n",
              "      <td>...</td>\n",
              "      <td>...</td>\n",
              "      <td>...</td>\n",
              "    </tr>\n",
              "    <tr>\n",
              "      <th>106</th>\n",
              "      <td>5.0</td>\n",
              "      <td>Positive</td>\n",
              "      <td>Tracy Holczer's The Secret Hum of a Daisy is t...</td>\n",
              "    </tr>\n",
              "    <tr>\n",
              "      <th>270</th>\n",
              "      <td>4.0</td>\n",
              "      <td>Positive</td>\n",
              "      <td>Red Sparrow is a grim, realistic, violent and ...</td>\n",
              "    </tr>\n",
              "    <tr>\n",
              "      <th>860</th>\n",
              "      <td>1.0</td>\n",
              "      <td>Negative</td>\n",
              "      <td>This was a gift, but some of the art inside is...</td>\n",
              "    </tr>\n",
              "    <tr>\n",
              "      <th>435</th>\n",
              "      <td>3.0</td>\n",
              "      <td>Negative</td>\n",
              "      <td>A fast flowing story of heroes and villains. I...</td>\n",
              "    </tr>\n",
              "    <tr>\n",
              "      <th>102</th>\n",
              "      <td>5.0</td>\n",
              "      <td>Positive</td>\n",
              "      <td>Wow, I hardly know what to say about this book...</td>\n",
              "    </tr>\n",
              "  </tbody>\n",
              "</table>\n",
              "<p>670 rows × 3 columns</p>\n",
              "</div>"
            ],
            "text/plain": [
              "     Ratings Sentiments                                   Customer Reviews\n",
              "703      5.0   Positive  Vivid characters and descriptions. The author ...\n",
              "311      5.0   Positive  Oh this is an awful bookA delightful awful boo...\n",
              "722      5.0   Positive  Mitchell has really gifted us with a gem. He p...\n",
              "629      4.0   Positive  Felt like I was floating down the river...Soli...\n",
              "0        4.0   Positive  Da Silva takes the divine by storm with this u...\n",
              "..       ...        ...                                                ...\n",
              "106      5.0   Positive  Tracy Holczer's The Secret Hum of a Daisy is t...\n",
              "270      4.0   Positive  Red Sparrow is a grim, realistic, violent and ...\n",
              "860      1.0   Negative  This was a gift, but some of the art inside is...\n",
              "435      3.0   Negative  A fast flowing story of heroes and villains. I...\n",
              "102      5.0   Positive  Wow, I hardly know what to say about this book...\n",
              "\n",
              "[670 rows x 3 columns]"
            ]
          },
          "metadata": {
            "tags": []
          },
          "execution_count": 195
        }
      ]
    },
    {
      "cell_type": "code",
      "metadata": {
        "id": "T3pK4MRR4zD0",
        "outputId": "beed18ed-ac51-4e76-f17a-138ad40b3e23",
        "colab": {
          "base_uri": "https://localhost:8080/",
          "height": 35
        }
      },
      "source": [
        "training['Customer Reviews'].iloc[3] #<---The Index Has Been Re-indexed When It Comes To iloc"
      ],
      "execution_count": 196,
      "outputs": [
        {
          "output_type": "execute_result",
          "data": {
            "application/vnd.google.colaboratory.intrinsic+json": {
              "type": "string"
            },
            "text/plain": [
              "'Felt like I was floating down the river...Solid explaination of cause and effect, with first person follow-up to keep it real.'"
            ]
          },
          "metadata": {
            "tags": []
          },
          "execution_count": 196
        }
      ]
    }
  ]
}